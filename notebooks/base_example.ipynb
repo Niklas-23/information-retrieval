{
 "cells": [
  {
   "cell_type": "markdown",
   "source": [
    "# Base example"
   ],
   "metadata": {
    "collapsed": false,
    "pycharm": {
     "name": "#%% md\n"
    }
   }
  },
  {
   "cell_type": "code",
   "execution_count": 1,
   "metadata": {
    "collapsed": true,
    "pycharm": {
     "name": "#%%\n"
    }
   },
   "outputs": [],
   "source": [
    "from typing import List, Union, Tuple\n",
    "\n",
    "from arqmath_code.Entities.Post import Question, Answer\n",
    "from arqmath_code.topic_file_reader import Topic\n",
    "from src.base.model import Model\n",
    "from src.base.pipeline import Pipeline\n",
    "from src.base.post_processor import PostProcessor\n",
    "from src.base.pre_processing import PreProcessor\n",
    "from src.runner import Runner"
   ]
  },
  {
   "cell_type": "markdown",
   "source": [
    "## Create a model"
   ],
   "metadata": {
    "collapsed": false,
    "pycharm": {
     "name": "#%% md\n"
    }
   }
  },
  {
   "cell_type": "code",
   "execution_count": 2,
   "outputs": [],
   "source": [
    "from sklearn.metrics.pairwise import cosine_similarity\n",
    "import numpy as np\n",
    "import scipy\n",
    "from sklearn.feature_extraction.text import TfidfVectorizer\n",
    "from typing import List, Union, Tuple\n",
    "\n",
    "class TfIdfModel(Model):\n",
    "    def forward(self, queries: List[Topic], documents: List[Union[Question, Answer]]) -> List[\n",
    "        Tuple[Topic, Union[Question, Answer], float]]:\n",
    "        answer_bodys: List[str] = [answer.body for answer in documents]\n",
    "        query_bodys: List[str] = [query.question for query in queries]\n",
    "\n",
    "        training_set: List[str] = answer_bodys.copy()\n",
    "        training_set = training_set + query_bodys\n",
    "\n",
    "        vectorizer: TfidfVectorizer = TfidfVectorizer()\n",
    "        vectorizer.fit(training_set)\n",
    "        query_vector: scipy.sparse_csr.csr_matrix = vectorizer.transform(query_bodys)\n",
    "        word_term_matrix: scipy.sparse_csr.csr_matrix = vectorizer.transform(answer_bodys)\n",
    "        cos_sims: np.ndarray = cosine_similarity(query_vector, word_term_matrix)\n",
    "        res = []\n",
    "        for i, query in enumerate(queries):\n",
    "           per_query = list(zip(range(cos_sims.shape[1]), cos_sims[0,]))\n",
    "           for j in per_query:\n",
    "               res.append((query, documents[j[0]], j[1]))\n",
    "        return res"
   ],
   "metadata": {
    "collapsed": false,
    "pycharm": {
     "name": "#%%\n"
    }
   }
  },
  {
   "cell_type": "markdown",
   "source": [
    "## Pre-Processor example"
   ],
   "metadata": {
    "collapsed": false,
    "pycharm": {
     "name": "#%% md\n"
    }
   }
  },
  {
   "cell_type": "code",
   "execution_count": 3,
   "outputs": [],
   "source": [
    "import re\n",
    "class BinaryTagRetrieval(PreProcessor): # only works with a single topic\n",
    "    def forward(self, queries: List[Topic], documents: List[Union[Question, Answer]]) -> List[Union[Question, Answer]]:\n",
    "        questions = [question for question in documents if len(set(question.tags).intersection(set(queries[0].lst_tags))) > 0]\n",
    "        questions = filter(lambda question: question.answers is not None, questions)\n",
    "        return [answer for single_question in questions for answer in single_question.answers]"
   ],
   "metadata": {
    "collapsed": false,
    "pycharm": {
     "name": "#%%\n"
    }
   }
  },
  {
   "cell_type": "markdown",
   "source": [
    "# Post-Processor example"
   ],
   "metadata": {
    "collapsed": false,
    "pycharm": {
     "name": "#%% md\n"
    }
   }
  },
  {
   "cell_type": "code",
   "execution_count": 4,
   "outputs": [],
   "source": [
    "class Top1000Filter(PostProcessor): # only works with a single topic\n",
    "    def forward(self, queries: List[Topic], ranking: List[Tuple[Topic, Union[Question, Answer], float]]) -> List[\n",
    "        Tuple[Topic, Union[Question, Answer], float]]:\n",
    "        return sorted(ranking, key=lambda tuple: tuple[2], reverse=True)[:1000]"
   ],
   "metadata": {
    "collapsed": false,
    "pycharm": {
     "name": "#%%\n"
    }
   }
  },
  {
   "cell_type": "markdown",
   "source": [
    "## Pipeline example"
   ],
   "metadata": {
    "collapsed": false,
    "pycharm": {
     "name": "#%% md\n"
    }
   }
  },
  {
   "cell_type": "code",
   "execution_count": 5,
   "outputs": [],
   "source": [
    "def clean_post(query: Topic, answers: List[Answer]) -> (Topic, List[Answer]):\n",
    "    query.title = re.sub(r\"</?(p|span)[^>]*>\", \"\", query.title)\n",
    "    query.question = re.sub(r\"</?(p|span)[^>]*>\", \"\", query.question)\n",
    "    for answer in answers:\n",
    "        answer.body = re.sub(r\"</?(p|span)[^>]*>\", \"\", answer.body)\n",
    "    return query, answers"
   ],
   "metadata": {
    "collapsed": false,
    "pycharm": {
     "name": "#%%\n"
    }
   }
  },
  {
   "cell_type": "code",
   "execution_count": 6,
   "outputs": [],
   "source": [
    "from arqmath_code.post_reader_record import DataReaderRecord\n",
    "\n",
    "\n",
    "class TestPipeline(Pipeline):\n",
    "\n",
    "    def __init__(self, data_reader: DataReaderRecord):\n",
    "        super().__init__(data_reader)\n",
    "        self.tf_idf = TfIdfModel()\n",
    "        self.bin_tag = BinaryTagRetrieval()\n",
    "        self.top1000 = Top1000Filter()\n",
    "\n",
    "    def run(self, queries: List[Topic]) -> List[Tuple[Topic, Answer, float]]:\n",
    "        query = queries[0]\n",
    "        queries = [query]\n",
    "        all_questions = self.data_reader.get_questions()\n",
    "        documents = self.bin_tag(queries=queries, documents=all_questions)\n",
    "        query, documents = clean_post(query=query, answers=documents)\n",
    "        queries = [query]\n",
    "        ranking = self.tf_idf(queries=queries, documents=documents)\n",
    "        ranking = self.top1000(queries=queries, ranking=ranking)\n",
    "        return ranking\n"
   ],
   "metadata": {
    "collapsed": false,
    "pycharm": {
     "name": "#%%\n"
    }
   }
  },
  {
   "cell_type": "markdown",
   "source": [
    "## Runner Usage"
   ],
   "metadata": {
    "collapsed": false,
    "pycharm": {
     "name": "#%% md\n"
    }
   }
  },
  {
   "cell_type": "code",
   "execution_count": null,
   "outputs": [
    {
     "name": "stdout",
     "output_type": "stream",
     "text": [
      "reading users\n",
      "reading comments\n",
      "reading votes\n",
      "reading post links\n",
      "reading posts\n"
     ]
    }
   ],
   "source": [
    "runner = Runner(TestPipeline, n=1)\n",
    "ranking = runner.run(\"../results/test2.tsv\")\n",
    "ranking"
   ],
   "metadata": {
    "collapsed": false,
    "pycharm": {
     "name": "#%%\n",
     "is_executing": true
    }
   }
  }
 ],
 "metadata": {
  "kernelspec": {
   "display_name": "Python 3",
   "language": "python",
   "name": "python3"
  },
  "language_info": {
   "codemirror_mode": {
    "name": "ipython",
    "version": 2
   },
   "file_extension": ".py",
   "mimetype": "text/x-python",
   "name": "python",
   "nbconvert_exporter": "python",
   "pygments_lexer": "ipython2",
   "version": "2.7.6"
  }
 },
 "nbformat": 4,
 "nbformat_minor": 0
}