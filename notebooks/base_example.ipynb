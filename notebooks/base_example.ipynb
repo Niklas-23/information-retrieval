{
 "cells": [
  {
   "cell_type": "markdown",
   "source": [
    "# Base example"
   ],
   "metadata": {
    "collapsed": false,
    "pycharm": {
     "name": "#%% md\n"
    }
   }
  },
  {
   "cell_type": "code",
   "execution_count": 8,
   "metadata": {
    "collapsed": true,
    "pycharm": {
     "name": "#%%\n"
    }
   },
   "outputs": [],
   "source": [
    "from typing import List, Union, Tuple\n",
    "\n",
    "from arqmath_code.Entities.Post import Question, Answer\n",
    "from arqmath_code.topic_file_reader import Topic\n",
    "from src.base.model import Model\n",
    "from src.base.pipeline import Pipeline\n",
    "from src.base.post_processor import PostProcessor\n",
    "from src.base.pre_processing import PreProcessor\n",
    "from src.runner import Runner"
   ]
  },
  {
   "cell_type": "markdown",
   "source": [
    "## Create a model"
   ],
   "metadata": {
    "collapsed": false,
    "pycharm": {
     "name": "#%% md\n"
    }
   }
  },
  {
   "cell_type": "code",
   "execution_count": 7,
   "outputs": [],
   "source": [
    "from sklearn.metrics.pairwise import cosine_similarity\n",
    "import numpy as np\n",
    "import scipy\n",
    "from sklearn.feature_extraction.text import TfidfVectorizer\n",
    "from typing import List, Union, Tuple\n",
    "\n",
    "class TfIdfModel(Model):\n",
    "    def forward(self, queries: List[Topic], documents: List[Union[Question, Answer]]) -> List[\n",
    "        Tuple[Topic, Union[Question, Answer], float]]:\n",
    "        answer_bodys: List[str] = [answer.body for answer in documents]\n",
    "        query_bodys: List[str] = [query.body for query in queries]\n",
    "\n",
    "        training_set: List[str] = answer_bodys.copy()\n",
    "        training_set = training_set + query_bodys\n",
    "\n",
    "        vectorizer: TfidfVectorizer = TfidfVectorizer()\n",
    "        vectorizer.fit(training_set)\n",
    "        query_vector: scipy.sparse_csr.csr_matrix = vectorizer.transform(query_bodys)\n",
    "        word_term_matrix: scipy.sparse_csr.csr_matrix = vectorizer.transform(answer_bodys)\n",
    "        cos_sims: np.ndarray = cosine_similarity(query_vector, word_term_matrix)\n",
    "        res = []\n",
    "        for i in range(len(queries)):\n",
    "           per_query = list(zip([query.topic_id for query in queries] ,[answer.post_id for answer in documents], cos_sims[i,]))\n",
    "           res += per_query\n",
    "        return res"
   ],
   "metadata": {
    "collapsed": false,
    "pycharm": {
     "name": "#%%\n"
    }
   }
  },
  {
   "cell_type": "code",
   "execution_count": 10,
   "outputs": [],
   "source": [
    "class BinaryTagRetrieval(PreProcessor):\n",
    "    def forward(self, queries: List[Topic], documents: List[Union[Question, Answer]]) -> List[Union[Question, Answer]]:\n",
    "        questions = list(set([question for tag in query.lst_tags for question in data_reader.get_question_of_tag(tag=tag)]))\n",
    "        questions = filter(lambda question: question.answers is not None, questions)\n",
    "        return [answer for single_question in questions for answer in single_question.answers]"
   ],
   "metadata": {
    "collapsed": false,
    "pycharm": {
     "name": "#%%\n"
    }
   }
  }
 ],
 "metadata": {
  "kernelspec": {
   "display_name": "Python 3",
   "language": "python",
   "name": "python3"
  },
  "language_info": {
   "codemirror_mode": {
    "name": "ipython",
    "version": 2
   },
   "file_extension": ".py",
   "mimetype": "text/x-python",
   "name": "python",
   "nbconvert_exporter": "python",
   "pygments_lexer": "ipython2",
   "version": "2.7.6"
  }
 },
 "nbformat": 4,
 "nbformat_minor": 0
}