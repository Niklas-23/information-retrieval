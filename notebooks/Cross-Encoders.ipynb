{
 "cells": [
  {
   "cell_type": "markdown",
   "source": [
    "# Cross-Encoders"
   ],
   "metadata": {
    "collapsed": false,
    "pycharm": {
     "name": "#%% md\n"
    }
   }
  },
  {
   "cell_type": "code",
   "execution_count": 1,
   "metadata": {
    "collapsed": true,
    "pycharm": {
     "name": "#%%\n"
    }
   },
   "outputs": [
    {
     "name": "stdout",
     "output_type": "stream",
     "text": [
      "reading users\n",
      "reading comments\n",
      "reading votes\n",
      "reading post links\n",
      "reading posts\n"
     ]
    }
   ],
   "source": [
    "from typing import List, Union, Tuple\n",
    "from arqmath_code.Entities.Post import Question, Answer\n",
    "from arqmath_code.topic_file_reader import Topic\n",
    "from src import init_data\n",
    "topic_reader, data_reader = init_data(task=1)"
   ]
  },
  {
   "cell_type": "code",
   "execution_count": 8,
   "outputs": [],
   "source": [
    "from arqmath_code.post_reader_record import DataReaderRecord\n",
    "from src.post_processors.top_k_filter import TopKFilter\n",
    "from src.post_processors.answer_score_retriever_for_questions import AnswerScoreRetrieverForQuestions\n",
    "from src.sbert.question_s_bert import QuestionSBERT\n",
    "from src.base.pipeline import Pipeline\n",
    "from src.sbert.cross_encoder import SBertCrossEncoder\n",
    "\n",
    "\n",
    "class SBertPipelineWithCrossEncoder(Pipeline):\n",
    "\n",
    "    def __init__(self, data_reader: DataReaderRecord):\n",
    "        super().__init__(data_reader)\n",
    "        self.sbert = QuestionSBERT(model_id='all-MiniLM-L6-v2')\n",
    "        self.answer_score_retriever = AnswerScoreRetrieverForQuestions()\n",
    "        self.top_k_filter = TopKFilter(k=5000)\n",
    "        self.final_top_k_filter = TopKFilter()\n",
    "        self.cross_encoder = SBertCrossEncoder('cross-encoder/ms-marco-TinyBERT-L-2-v2')\n",
    "\n",
    "    def run(self, queries: List[Topic]) -> List[Tuple[Topic, Answer, float]]:\n",
    "        questions: List[Question] = self.data_reader.get_questions()[:1000]\n",
    "        ranking: List[\n",
    "        Tuple[Topic, Union[Question, Answer], float]] = self.sbert(queries=queries, documents=questions)\n",
    "        ranking = self.answer_score_retriever(queries=queries, ranking=ranking)\n",
    "        ranking = self.top_k_filter(queries=queries, ranking=ranking)\n",
    "        ranking = self.cross_encoder(queries=queries, ranking=ranking)\n",
    "        ranking = self.final_top_k_filter(queries=queries, ranking=ranking)\n",
    "        return ranking"
   ],
   "metadata": {
    "collapsed": false,
    "pycharm": {
     "name": "#%%\n"
    }
   }
  },
  {
   "cell_type": "code",
   "execution_count": 9,
   "outputs": [
    {
     "name": "stdout",
     "output_type": "stream",
     "text": [
      "2022-11-15 19:04:23.014767\n",
      "read from cached embeddings at  ../arqmath_dataset/model_embeddings/document_embeddings_all-MiniLM-L6-v2.npy\n"
     ]
    },
    {
     "data": {
      "text/plain": "Batches:   0%|          | 0/4 [00:00<?, ?it/s]",
      "application/vnd.jupyter.widget-view+json": {
       "version_major": 2,
       "version_minor": 0,
       "model_id": "0a734b133fdb4936ab78a39ebda9501c"
      }
     },
     "metadata": {},
     "output_type": "display_data"
    },
    {
     "data": {
      "text/plain": "Batches:   0%|          | 0/3097 [00:00<?, ?it/s]",
      "application/vnd.jupyter.widget-view+json": {
       "version_major": 2,
       "version_minor": 0,
       "model_id": "c8f02e5d94dd49bf8a1d243b0bdfb3df"
      }
     },
     "metadata": {},
     "output_type": "display_data"
    },
    {
     "name": "stdout",
     "output_type": "stream",
     "text": [
      "[-9.276285   4.2935276 -8.854645  ... -0.7223669 -0.5448551 -2.5718584]\n",
      "2022-11-15 19:12:22.019144\n"
     ]
    },
    {
     "data": {
      "text/plain": "      Topic_Id  Post_Id      Score  Run_Number  Rank\n0        A.301     2122   6.308325           0     0\n1        A.301     4209   6.281318           0     1\n2        A.301     3207   6.202952           0     2\n3        A.301     3084   6.183568           0     3\n4        A.301      813   6.106048           0     4\n...        ...      ...        ...         ...   ...\n99095    A.400     3949 -10.475514           0   986\n99096    A.400  2895847 -10.512490           0   987\n99097    A.400     1895 -10.586302           0   988\n99098    A.400     2516 -10.660255           0   989\n99099    A.400     3604 -10.713422           0   990\n\n[99100 rows x 5 columns]",
      "text/html": "<div>\n<style scoped>\n    .dataframe tbody tr th:only-of-type {\n        vertical-align: middle;\n    }\n\n    .dataframe tbody tr th {\n        vertical-align: top;\n    }\n\n    .dataframe thead th {\n        text-align: right;\n    }\n</style>\n<table border=\"1\" class=\"dataframe\">\n  <thead>\n    <tr style=\"text-align: right;\">\n      <th></th>\n      <th>Topic_Id</th>\n      <th>Post_Id</th>\n      <th>Score</th>\n      <th>Run_Number</th>\n      <th>Rank</th>\n    </tr>\n  </thead>\n  <tbody>\n    <tr>\n      <th>0</th>\n      <td>A.301</td>\n      <td>2122</td>\n      <td>6.308325</td>\n      <td>0</td>\n      <td>0</td>\n    </tr>\n    <tr>\n      <th>1</th>\n      <td>A.301</td>\n      <td>4209</td>\n      <td>6.281318</td>\n      <td>0</td>\n      <td>1</td>\n    </tr>\n    <tr>\n      <th>2</th>\n      <td>A.301</td>\n      <td>3207</td>\n      <td>6.202952</td>\n      <td>0</td>\n      <td>2</td>\n    </tr>\n    <tr>\n      <th>3</th>\n      <td>A.301</td>\n      <td>3084</td>\n      <td>6.183568</td>\n      <td>0</td>\n      <td>3</td>\n    </tr>\n    <tr>\n      <th>4</th>\n      <td>A.301</td>\n      <td>813</td>\n      <td>6.106048</td>\n      <td>0</td>\n      <td>4</td>\n    </tr>\n    <tr>\n      <th>...</th>\n      <td>...</td>\n      <td>...</td>\n      <td>...</td>\n      <td>...</td>\n      <td>...</td>\n    </tr>\n    <tr>\n      <th>99095</th>\n      <td>A.400</td>\n      <td>3949</td>\n      <td>-10.475514</td>\n      <td>0</td>\n      <td>986</td>\n    </tr>\n    <tr>\n      <th>99096</th>\n      <td>A.400</td>\n      <td>2895847</td>\n      <td>-10.512490</td>\n      <td>0</td>\n      <td>987</td>\n    </tr>\n    <tr>\n      <th>99097</th>\n      <td>A.400</td>\n      <td>1895</td>\n      <td>-10.586302</td>\n      <td>0</td>\n      <td>988</td>\n    </tr>\n    <tr>\n      <th>99098</th>\n      <td>A.400</td>\n      <td>2516</td>\n      <td>-10.660255</td>\n      <td>0</td>\n      <td>989</td>\n    </tr>\n    <tr>\n      <th>99099</th>\n      <td>A.400</td>\n      <td>3604</td>\n      <td>-10.713422</td>\n      <td>0</td>\n      <td>990</td>\n    </tr>\n  </tbody>\n</table>\n<p>99100 rows × 5 columns</p>\n</div>"
     },
     "execution_count": 9,
     "metadata": {},
     "output_type": "execute_result"
    }
   ],
   "source": [
    "from src.runner import Runner\n",
    "from datetime import datetime\n",
    "\n",
    "print(datetime.now())\n",
    "runner = Runner(SBertPipelineWithCrossEncoder, n=1, data_reader=data_reader, topic_reader=topic_reader)\n",
    "ranking = runner.run(\"../results/model_results/SBert-Cross-encoder-test.tsv\")\n",
    "print(datetime.now())\n",
    "ranking"
   ],
   "metadata": {
    "collapsed": false,
    "pycharm": {
     "name": "#%%\n"
    }
   }
  }
 ],
 "metadata": {
  "kernelspec": {
   "display_name": "Python 3",
   "language": "python",
   "name": "python3"
  },
  "language_info": {
   "codemirror_mode": {
    "name": "ipython",
    "version": 2
   },
   "file_extension": ".py",
   "mimetype": "text/x-python",
   "name": "python",
   "nbconvert_exporter": "python",
   "pygments_lexer": "ipython2",
   "version": "2.7.6"
  }
 },
 "nbformat": 4,
 "nbformat_minor": 0
}