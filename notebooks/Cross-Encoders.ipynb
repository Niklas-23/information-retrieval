{
 "cells": [
  {
   "cell_type": "markdown",
   "source": [
    "# Cross-Encoders"
   ],
   "metadata": {
    "collapsed": false,
    "pycharm": {
     "name": "#%% md\n"
    }
   }
  },
  {
   "cell_type": "code",
   "execution_count": 1,
   "metadata": {
    "collapsed": true,
    "pycharm": {
     "name": "#%%\n"
    }
   },
   "outputs": [
    {
     "name": "stdout",
     "output_type": "stream",
     "text": [
      "reading users\n",
      "reading comments\n",
      "reading votes\n",
      "reading post links\n",
      "reading posts\n"
     ]
    }
   ],
   "source": [
    "from typing import List, Union, Tuple\n",
    "from arqmath_code.Entities.Post import Question, Answer\n",
    "from arqmath_code.topic_file_reader import Topic\n",
    "from src import init_data\n",
    "topic_reader, data_reader = init_data(task=1)"
   ]
  },
  {
   "cell_type": "code",
   "execution_count": 2,
   "outputs": [],
   "source": [
    "from arqmath_code.post_reader_record import DataReaderRecord\n",
    "from src.post_processors.top_k_filter import TopKFilter\n",
    "from src.post_processors.answer_score_retriever_for_questions import AnswerScoreRetrieverForQuestions\n",
    "from src.sbert.question_s_bert import QuestionSBERT\n",
    "from src.base.pipeline import Pipeline\n",
    "from src.sbert.cross_encoder import SBertCrossEncoder\n",
    "\n",
    "\n",
    "class SBertPipelineWithCrossEncoder(Pipeline):\n",
    "\n",
    "    def __init__(self, data_reader: DataReaderRecord):\n",
    "        super().__init__(data_reader)\n",
    "        self.sbert = QuestionSBERT(model_id='all-MiniLM-L6-v2')\n",
    "        self.answer_score_retriever = AnswerScoreRetrieverForQuestions()\n",
    "        self.top_k_filter = TopKFilter(k=5000)\n",
    "        self.final_top_k_filter = TopKFilter()\n",
    "        self.cross_encoder = SBertCrossEncoder('cross-encoder/ms-marco-TinyBERT-L-2-v2')\n",
    "\n",
    "    def run(self, queries: List[Topic]) -> List[Tuple[Topic, Answer, float]]:\n",
    "        questions: List[Question] = self.data_reader.get_questions()\n",
    "        ranking: List[\n",
    "        Tuple[Topic, Union[Question, Answer], float]] = self.sbert(queries=queries, documents=questions)\n",
    "        print(\"Retrieving Answers\")\n",
    "        ranking = self.answer_score_retriever(queries=queries, ranking=ranking)\n",
    "        print(\"Applying Top K=5000 Filter\")\n",
    "        ranking = self.top_k_filter(queries=queries, ranking=ranking)\n",
    "        print(\"Starting Cross Encoder\")\n",
    "        ranking = self.cross_encoder(queries=queries, ranking=ranking)\n",
    "        print(\"Applying final Top K Filter\")\n",
    "        ranking = self.final_top_k_filter(queries=queries, ranking=ranking)\n",
    "        return ranking"
   ],
   "metadata": {
    "collapsed": false,
    "pycharm": {
     "name": "#%%\n"
    }
   }
  },
  {
   "cell_type": "code",
   "execution_count": 3,
   "outputs": [
    {
     "name": "stdout",
     "output_type": "stream",
     "text": [
      "2022-11-18 07:19:33.740349\n",
      "read from cached embeddings at  ../arqmath_dataset/model_embeddings/document_embeddings_all-MiniLM-L6-v2.npy\n"
     ]
    },
    {
     "data": {
      "text/plain": "Batches:   0%|          | 0/4 [00:00<?, ?it/s]",
      "application/vnd.jupyter.widget-view+json": {
       "version_major": 2,
       "version_minor": 0,
       "model_id": "fc092898e2f646b4bee9efa6bceed5ca"
      }
     },
     "metadata": {},
     "output_type": "display_data"
    },
    {
     "name": "stdout",
     "output_type": "stream",
     "text": [
      "Calculating Similarities\n",
      "Retrieving Answers\n",
      "Applying Top K=5000 Filter\n",
      "Starting Cross Encoder\n"
     ]
    },
    {
     "data": {
      "text/plain": "Batches:   0%|          | 0/15625 [00:00<?, ?it/s]",
      "application/vnd.jupyter.widget-view+json": {
       "version_major": 2,
       "version_minor": 0,
       "model_id": "fe33ea9eb12b4bbb83141f2dea2705ee"
      }
     },
     "metadata": {},
     "output_type": "display_data"
    },
    {
     "name": "stdout",
     "output_type": "stream",
     "text": [
      "Applying final Top K Filter\n",
      "2022-11-18 08:43:00.906637\n"
     ]
    },
    {
     "data": {
      "text/plain": "      Topic_Id  Post_Id     Score  Run_Number  Rank\n0        A.301  1308036  6.762672           0     0\n1        A.301  1428161  6.686323           0     1\n2        A.301   454669  6.609347           0     2\n3        A.301  1845609  6.592342           0     3\n4        A.301  2501014  6.449536           0     4\n...        ...      ...       ...         ...   ...\n99995    A.400  2267915  1.394436           0   995\n99996    A.400  1608708  1.392781           0   996\n99997    A.400  1326825  1.391632           0   997\n99998    A.400  1601393  1.391448           0   998\n99999    A.400  2530304  1.391440           0   999\n\n[100000 rows x 5 columns]",
      "text/html": "<div>\n<style scoped>\n    .dataframe tbody tr th:only-of-type {\n        vertical-align: middle;\n    }\n\n    .dataframe tbody tr th {\n        vertical-align: top;\n    }\n\n    .dataframe thead th {\n        text-align: right;\n    }\n</style>\n<table border=\"1\" class=\"dataframe\">\n  <thead>\n    <tr style=\"text-align: right;\">\n      <th></th>\n      <th>Topic_Id</th>\n      <th>Post_Id</th>\n      <th>Score</th>\n      <th>Run_Number</th>\n      <th>Rank</th>\n    </tr>\n  </thead>\n  <tbody>\n    <tr>\n      <th>0</th>\n      <td>A.301</td>\n      <td>1308036</td>\n      <td>6.762672</td>\n      <td>0</td>\n      <td>0</td>\n    </tr>\n    <tr>\n      <th>1</th>\n      <td>A.301</td>\n      <td>1428161</td>\n      <td>6.686323</td>\n      <td>0</td>\n      <td>1</td>\n    </tr>\n    <tr>\n      <th>2</th>\n      <td>A.301</td>\n      <td>454669</td>\n      <td>6.609347</td>\n      <td>0</td>\n      <td>2</td>\n    </tr>\n    <tr>\n      <th>3</th>\n      <td>A.301</td>\n      <td>1845609</td>\n      <td>6.592342</td>\n      <td>0</td>\n      <td>3</td>\n    </tr>\n    <tr>\n      <th>4</th>\n      <td>A.301</td>\n      <td>2501014</td>\n      <td>6.449536</td>\n      <td>0</td>\n      <td>4</td>\n    </tr>\n    <tr>\n      <th>...</th>\n      <td>...</td>\n      <td>...</td>\n      <td>...</td>\n      <td>...</td>\n      <td>...</td>\n    </tr>\n    <tr>\n      <th>99995</th>\n      <td>A.400</td>\n      <td>2267915</td>\n      <td>1.394436</td>\n      <td>0</td>\n      <td>995</td>\n    </tr>\n    <tr>\n      <th>99996</th>\n      <td>A.400</td>\n      <td>1608708</td>\n      <td>1.392781</td>\n      <td>0</td>\n      <td>996</td>\n    </tr>\n    <tr>\n      <th>99997</th>\n      <td>A.400</td>\n      <td>1326825</td>\n      <td>1.391632</td>\n      <td>0</td>\n      <td>997</td>\n    </tr>\n    <tr>\n      <th>99998</th>\n      <td>A.400</td>\n      <td>1601393</td>\n      <td>1.391448</td>\n      <td>0</td>\n      <td>998</td>\n    </tr>\n    <tr>\n      <th>99999</th>\n      <td>A.400</td>\n      <td>2530304</td>\n      <td>1.391440</td>\n      <td>0</td>\n      <td>999</td>\n    </tr>\n  </tbody>\n</table>\n<p>100000 rows × 5 columns</p>\n</div>"
     },
     "execution_count": 3,
     "metadata": {},
     "output_type": "execute_result"
    }
   ],
   "source": [
    "from src.runner import Runner\n",
    "from datetime import datetime\n",
    "\n",
    "print(datetime.now())\n",
    "runner = Runner(SBertPipelineWithCrossEncoder, n=1, data_reader=data_reader, topic_reader=topic_reader)\n",
    "ranking = runner.run(\"../results/model_results/SBert-Cross-Encoder.tsv\")\n",
    "print(datetime.now())\n",
    "ranking"
   ],
   "metadata": {
    "collapsed": false,
    "pycharm": {
     "name": "#%%\n"
    }
   }
  },
  {
   "cell_type": "code",
   "execution_count": 4,
   "outputs": [],
   "source": [
    "from src.pre_processors.remove_xml_tags import RemoveXMLTagsFromDocumentBody, RemoveXMLTagsFromQueries\n",
    "from arqmath_code.post_reader_record import DataReaderRecord\n",
    "from src.post_processors.top_k_filter import TopKFilter\n",
    "from src.post_processors.answer_score_retriever_for_questions import AnswerScoreRetrieverForQuestions\n",
    "from src.sbert.question_s_bert import QuestionSBERT\n",
    "from src.base.pipeline import Pipeline\n",
    "from src.sbert.cross_encoder import SBertCrossEncoder\n",
    "\n",
    "\n",
    "class SBertPipelineWithCrossEncoderWithoutTags(Pipeline):\n",
    "\n",
    "    def __init__(self, data_reader: DataReaderRecord):\n",
    "        super().__init__(data_reader)\n",
    "        self.sbert = QuestionSBERT(model_id='all-MiniLM-L6-v2')\n",
    "        self.answer_score_retriever = AnswerScoreRetrieverForQuestions()\n",
    "        self.top_k_filter = TopKFilter(k=5000)\n",
    "        self.final_top_k_filter = TopKFilter()\n",
    "        self.cross_encoder = SBertCrossEncoder('cross-encoder/ms-marco-TinyBERT-L-2-v2')\n",
    "        self.xml_question_tag_remover = RemoveXMLTagsFromDocumentBody()\n",
    "        self.xml_topic_tag_remover = RemoveXMLTagsFromQueries()\n",
    "\n",
    "    def run(self, queries: List[Topic]) -> List[Tuple[Topic, Answer, float]]:\n",
    "        questions: List[Question] = self.data_reader.get_questions()\n",
    "        print(\"Removing Tags\")\n",
    "        questions = self.xml_question_tag_remover(queries=queries, documents=questions)\n",
    "        queries = self.xml_topic_tag_remover(queries=queries)\n",
    "        print(\"Bi-Encoding\")\n",
    "        ranking: List[\n",
    "        Tuple[Topic, Union[Question, Answer], float]] = self.sbert(queries=queries, documents=questions)\n",
    "        print(\"Retrieving Answers\")\n",
    "        ranking = self.answer_score_retriever(queries=queries, ranking=ranking)\n",
    "        print(\"Applying Top K=5000 Filter\")\n",
    "        ranking = self.top_k_filter(queries=queries, ranking=ranking)\n",
    "        print(\"Cross Encoding\")\n",
    "        ranking = self.cross_encoder(queries=queries, ranking=ranking)\n",
    "        print(\"Applying final top k filter\")\n",
    "        ranking = self.final_top_k_filter(queries=queries, ranking=ranking)\n",
    "        return ranking"
   ],
   "metadata": {
    "collapsed": false,
    "pycharm": {
     "name": "#%%\n"
    }
   }
  },
  {
   "cell_type": "code",
   "execution_count": 5,
   "outputs": [
    {
     "name": "stdout",
     "output_type": "stream",
     "text": [
      "2022-11-18 08:45:28.831178\n",
      "Removing Tags\n"
     ]
    },
    {
     "name": "stderr",
     "output_type": "stream",
     "text": [
      "/opt/homebrew/Caskroom/miniconda/base/envs/IR/lib/python3.9/site-packages/bs4/__init__.py:435: MarkupResemblesLocatorWarning: The input looks more like a filename than markup. You may want to open this file and pass the filehandle into Beautiful Soup.\n",
      "  warnings.warn(\n"
     ]
    },
    {
     "name": "stdout",
     "output_type": "stream",
     "text": [
      "Bi-Encoding\n",
      "read from cached embeddings at  ../arqmath_dataset/model_embeddings/document_embeddings_all-MiniLM-L6-v2.npy\n"
     ]
    },
    {
     "data": {
      "text/plain": "Batches:   0%|          | 0/4 [00:00<?, ?it/s]",
      "application/vnd.jupyter.widget-view+json": {
       "version_major": 2,
       "version_minor": 0,
       "model_id": "6b282d3c73734b168af6e4e01d0547a5"
      }
     },
     "metadata": {},
     "output_type": "display_data"
    },
    {
     "name": "stdout",
     "output_type": "stream",
     "text": [
      "Calculating Similarities\n",
      "Retrieving Answers\n",
      "Applying Top K=5000 Filter\n",
      "Cross Encoding\n"
     ]
    },
    {
     "data": {
      "text/plain": "Batches:   0%|          | 0/15625 [00:00<?, ?it/s]",
      "application/vnd.jupyter.widget-view+json": {
       "version_major": 2,
       "version_minor": 0,
       "model_id": "50a7bb846ea74f68814c35c5d2343876"
      }
     },
     "metadata": {},
     "output_type": "display_data"
    },
    {
     "name": "stdout",
     "output_type": "stream",
     "text": [
      "Applying final top k filter\n",
      "2022-11-18 10:07:10.797290\n"
     ]
    },
    {
     "data": {
      "text/plain": "      Topic_Id  Post_Id     Score  Run_Number  Rank\n0        A.301  1777715  1.985368           0     0\n1        A.301   534977  1.251464           0     1\n2        A.301  1448576  0.414236           0     2\n3        A.301  2616416  0.160473           0     3\n4        A.301  1237404  0.004756           0     4\n...        ...      ...       ...         ...   ...\n99995    A.400   571968 -9.499552           0   995\n99996    A.400  2554379 -9.500296           0   996\n99997    A.400  2123419 -9.501735           0   997\n99998    A.400  2677352 -9.502047           0   998\n99999    A.400  1108079 -9.503534           0   999\n\n[100000 rows x 5 columns]",
      "text/html": "<div>\n<style scoped>\n    .dataframe tbody tr th:only-of-type {\n        vertical-align: middle;\n    }\n\n    .dataframe tbody tr th {\n        vertical-align: top;\n    }\n\n    .dataframe thead th {\n        text-align: right;\n    }\n</style>\n<table border=\"1\" class=\"dataframe\">\n  <thead>\n    <tr style=\"text-align: right;\">\n      <th></th>\n      <th>Topic_Id</th>\n      <th>Post_Id</th>\n      <th>Score</th>\n      <th>Run_Number</th>\n      <th>Rank</th>\n    </tr>\n  </thead>\n  <tbody>\n    <tr>\n      <th>0</th>\n      <td>A.301</td>\n      <td>1777715</td>\n      <td>1.985368</td>\n      <td>0</td>\n      <td>0</td>\n    </tr>\n    <tr>\n      <th>1</th>\n      <td>A.301</td>\n      <td>534977</td>\n      <td>1.251464</td>\n      <td>0</td>\n      <td>1</td>\n    </tr>\n    <tr>\n      <th>2</th>\n      <td>A.301</td>\n      <td>1448576</td>\n      <td>0.414236</td>\n      <td>0</td>\n      <td>2</td>\n    </tr>\n    <tr>\n      <th>3</th>\n      <td>A.301</td>\n      <td>2616416</td>\n      <td>0.160473</td>\n      <td>0</td>\n      <td>3</td>\n    </tr>\n    <tr>\n      <th>4</th>\n      <td>A.301</td>\n      <td>1237404</td>\n      <td>0.004756</td>\n      <td>0</td>\n      <td>4</td>\n    </tr>\n    <tr>\n      <th>...</th>\n      <td>...</td>\n      <td>...</td>\n      <td>...</td>\n      <td>...</td>\n      <td>...</td>\n    </tr>\n    <tr>\n      <th>99995</th>\n      <td>A.400</td>\n      <td>571968</td>\n      <td>-9.499552</td>\n      <td>0</td>\n      <td>995</td>\n    </tr>\n    <tr>\n      <th>99996</th>\n      <td>A.400</td>\n      <td>2554379</td>\n      <td>-9.500296</td>\n      <td>0</td>\n      <td>996</td>\n    </tr>\n    <tr>\n      <th>99997</th>\n      <td>A.400</td>\n      <td>2123419</td>\n      <td>-9.501735</td>\n      <td>0</td>\n      <td>997</td>\n    </tr>\n    <tr>\n      <th>99998</th>\n      <td>A.400</td>\n      <td>2677352</td>\n      <td>-9.502047</td>\n      <td>0</td>\n      <td>998</td>\n    </tr>\n    <tr>\n      <th>99999</th>\n      <td>A.400</td>\n      <td>1108079</td>\n      <td>-9.503534</td>\n      <td>0</td>\n      <td>999</td>\n    </tr>\n  </tbody>\n</table>\n<p>100000 rows × 5 columns</p>\n</div>"
     },
     "execution_count": 5,
     "metadata": {},
     "output_type": "execute_result"
    }
   ],
   "source": [
    "from src.runner import Runner\n",
    "from datetime import datetime\n",
    "\n",
    "print(datetime.now())\n",
    "runner = Runner(SBertPipelineWithCrossEncoderWithoutTags, n=1, data_reader=data_reader, topic_reader=topic_reader)\n",
    "ranking = runner.run(\"../results/model_results/SBert-Cross-Encoder-Without-Tags.tsv\")\n",
    "print(datetime.now())\n",
    "ranking"
   ],
   "metadata": {
    "collapsed": false,
    "pycharm": {
     "name": "#%%\n"
    }
   }
  }
 ],
 "metadata": {
  "kernelspec": {
   "display_name": "Python 3",
   "language": "python",
   "name": "python3"
  },
  "language_info": {
   "codemirror_mode": {
    "name": "ipython",
    "version": 2
   },
   "file_extension": ".py",
   "mimetype": "text/x-python",
   "name": "python",
   "nbconvert_exporter": "python",
   "pygments_lexer": "ipython2",
   "version": "2.7.6"
  }
 },
 "nbformat": 4,
 "nbformat_minor": 0
}