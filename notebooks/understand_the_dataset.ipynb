{
 "cells": [
  {
   "cell_type": "code",
   "execution_count": 3,
   "metadata": {
    "collapsed": true,
    "pycharm": {
     "name": "#%%\n"
    }
   },
   "outputs": [],
   "source": [
    "from arqmath_code.post_reader_record import DataReaderRecord"
   ]
  },
  {
   "cell_type": "code",
   "execution_count": 4,
   "outputs": [
    {
     "name": "stdout",
     "output_type": "stream",
     "text": [
      "reading users\n",
      "reading comments\n",
      "reading votes\n",
      "reading post links\n",
      "reading posts\n"
     ]
    }
   ],
   "source": [
    "reader = DataReaderRecord(\"../arqmath_dataset\", \".V1.3\")"
   ],
   "metadata": {
    "collapsed": false,
    "pycharm": {
     "name": "#%%\n"
    }
   }
  },
  {
   "cell_type": "code",
   "execution_count": 3,
   "outputs": [],
   "source": [
    "answer = reader.get_answers_posted_by_user(11)"
   ],
   "metadata": {
    "collapsed": false,
    "pycharm": {
     "name": "#%%\n"
    }
   }
  },
  {
   "cell_type": "code",
   "execution_count": 4,
   "outputs": [
    {
     "name": "stdout",
     "output_type": "stream",
     "text": [
      "<p>The dot product can be used to find the length of a vector or the angle between two vectors.</p>  <p>The cross product is used to find a vector which is perpendicular to the plane spanned by two vectors.</p> \n",
      "<p>If you were supposed to find the <em>last</em> ten digits, you could just ignore the first 40 digits of each number. However you're supposed to find the <em>first</em> ten digits, so that doesn't work. And you can't just ignore the last digits of each number either because those <em>can</em> carry over.</p> \n",
      "<p>You seem to be saying that if a set contains the empty set, it is itself empty. This not true. In fact the opposite is true:</p>  <p>A set is empty if and only if it contains no elements. If a set contains the empty set, it has at least one element (the empty set) and is thus, by definition, not empty.</p> \n",
      "<p>Your first instinct was right: <span class=\"math-container\" id=\"112517\">P(\\{a,b\\}) \\times P(\\{p,q\\})</span> contains <span class=\"math-container\" id=\"112518\">(\\emptyset, \\emptyset)</span>, but not <span class=\"math-container\" id=\"112519\">\\emptyset</span>. <span class=\"math-container\" id=\"112520\">(\\emptyset, \\emptyset)</span> is not the empty set, so <span class=\"math-container\" id=\"112521\">P(a,b) \\times P(p,q)</span> does not contain the empty set.</p>  <p>And yes, every powerset contains the empty set, but <span class=\"math-container\" id=\"112522\">P(a,b) \\times P(p,q)</span> is not a powerset, it's the cartesian product of two powersets.</p> \n",
      "<blockquote>   <p>However, how is this not transitive?</p> </blockquote>  <p>There is an edge from Z to A and one from A to Z, but no edge from Z to itself or from A to itself.</p>  <blockquote>   <p>Does this mean that if a relation is transitive, then it is also irreflexive?</p> </blockquote>  <p>No, it means that if a transitive relation is irreflexive, it is also asymmetric and a strict partial order (and if it is asymmetric, it is also irreflexive etc.).</p>  <p>So if the graph was transitive, its irreflexivity would imply that it's also antisymmetric, but since the graph is not transitive, this does not apply.</p> \n",
      "<blockquote>   <p>Is there an equation stating the number of times you would have to half a number to reduce it to some value less than or equal to 1.</p> </blockquote>  <p>That would be the logarithm to base 2 rounded up to the next integer.</p>  <blockquote>   <p>Also, is there a representation using the floor function in conjunction?</p> </blockquote>  <p>That would be the logarithm to base 2 rounded down.</p> \n"
     ]
    }
   ],
   "source": [
    "for e in answer:\n",
    "    print(e.body)"
   ],
   "metadata": {
    "collapsed": false,
    "pycharm": {
     "name": "#%%\n"
    }
   }
  },
  {
   "cell_type": "markdown",
   "source": [
    "# Topics\n",
    "The topics are the queries our retrieval models have to answer"
   ],
   "metadata": {
    "collapsed": false,
    "pycharm": {
     "name": "#%% md\n"
    }
   }
  },
  {
   "cell_type": "code",
   "execution_count": 5,
   "outputs": [],
   "source": [
    "from arqmath_code.topic_file_reader import TopicReader"
   ],
   "metadata": {
    "collapsed": false,
    "pycharm": {
     "name": "#%%\n"
    }
   }
  },
  {
   "cell_type": "code",
   "execution_count": 6,
   "outputs": [],
   "source": [
    "topicReader = TopicReader(\"../arqmath_dataset/Topics/Topics_Task1_2022_V0.1.xml\")"
   ],
   "metadata": {
    "collapsed": false,
    "pycharm": {
     "name": "#%%\n"
    }
   }
  },
  {
   "cell_type": "code",
   "execution_count": 7,
   "outputs": [
    {
     "data": {
      "text/plain": "{'A.301': <arqmath_code.topic_file_reader.Topic at 0x124df7520>,\n 'A.302': <arqmath_code.topic_file_reader.Topic at 0x10843d970>,\n 'A.303': <arqmath_code.topic_file_reader.Topic at 0x1083e9be0>,\n 'A.304': <arqmath_code.topic_file_reader.Topic at 0x108417b50>,\n 'A.305': <arqmath_code.topic_file_reader.Topic at 0x124b1ac40>,\n 'A.306': <arqmath_code.topic_file_reader.Topic at 0x124b1abb0>,\n 'A.307': <arqmath_code.topic_file_reader.Topic at 0x124b1a3d0>,\n 'A.308': <arqmath_code.topic_file_reader.Topic at 0x124b1a100>,\n 'A.309': <arqmath_code.topic_file_reader.Topic at 0x15695f3d0>,\n 'A.310': <arqmath_code.topic_file_reader.Topic at 0x15695fdc0>,\n 'A.311': <arqmath_code.topic_file_reader.Topic at 0x15695f9d0>,\n 'A.312': <arqmath_code.topic_file_reader.Topic at 0x15695fc70>,\n 'A.313': <arqmath_code.topic_file_reader.Topic at 0x15695f370>,\n 'A.314': <arqmath_code.topic_file_reader.Topic at 0x15695f880>,\n 'A.315': <arqmath_code.topic_file_reader.Topic at 0x15695f8b0>,\n 'A.316': <arqmath_code.topic_file_reader.Topic at 0x15695f100>,\n 'A.317': <arqmath_code.topic_file_reader.Topic at 0x15695f670>,\n 'A.318': <arqmath_code.topic_file_reader.Topic at 0x15695f220>,\n 'A.319': <arqmath_code.topic_file_reader.Topic at 0x15695fdf0>,\n 'A.320': <arqmath_code.topic_file_reader.Topic at 0x15695f160>,\n 'A.321': <arqmath_code.topic_file_reader.Topic at 0x15695fbb0>,\n 'A.322': <arqmath_code.topic_file_reader.Topic at 0x15695f070>,\n 'A.323': <arqmath_code.topic_file_reader.Topic at 0x15695fbe0>,\n 'A.324': <arqmath_code.topic_file_reader.Topic at 0x15695ffd0>,\n 'A.325': <arqmath_code.topic_file_reader.Topic at 0x15695fcd0>,\n 'A.326': <arqmath_code.topic_file_reader.Topic at 0x15695f7c0>,\n 'A.327': <arqmath_code.topic_file_reader.Topic at 0x15695f910>,\n 'A.328': <arqmath_code.topic_file_reader.Topic at 0x15695f820>,\n 'A.329': <arqmath_code.topic_file_reader.Topic at 0x15695f0a0>,\n 'A.330': <arqmath_code.topic_file_reader.Topic at 0x15695f1c0>,\n 'A.331': <arqmath_code.topic_file_reader.Topic at 0x15695f310>,\n 'A.332': <arqmath_code.topic_file_reader.Topic at 0x15695fe80>,\n 'A.333': <arqmath_code.topic_file_reader.Topic at 0x15695fc40>,\n 'A.334': <arqmath_code.topic_file_reader.Topic at 0x15695fee0>,\n 'A.335': <arqmath_code.topic_file_reader.Topic at 0x15695f7f0>,\n 'A.336': <arqmath_code.topic_file_reader.Topic at 0x15695f520>,\n 'A.337': <arqmath_code.topic_file_reader.Topic at 0x15695fd30>,\n 'A.338': <arqmath_code.topic_file_reader.Topic at 0x15695f340>,\n 'A.339': <arqmath_code.topic_file_reader.Topic at 0x1546e9220>,\n 'A.340': <arqmath_code.topic_file_reader.Topic at 0x1546e9f10>,\n 'A.341': <arqmath_code.topic_file_reader.Topic at 0x1546e9d90>,\n 'A.342': <arqmath_code.topic_file_reader.Topic at 0x1546e9a30>,\n 'A.343': <arqmath_code.topic_file_reader.Topic at 0x1546e9100>,\n 'A.344': <arqmath_code.topic_file_reader.Topic at 0x1546e9c10>,\n 'A.345': <arqmath_code.topic_file_reader.Topic at 0x1546e9f70>,\n 'A.346': <arqmath_code.topic_file_reader.Topic at 0x1546e9520>,\n 'A.347': <arqmath_code.topic_file_reader.Topic at 0x1546e9970>,\n 'A.348': <arqmath_code.topic_file_reader.Topic at 0x1546e91c0>,\n 'A.349': <arqmath_code.topic_file_reader.Topic at 0x1546e9be0>,\n 'A.350': <arqmath_code.topic_file_reader.Topic at 0x1546e95b0>,\n 'A.351': <arqmath_code.topic_file_reader.Topic at 0x1546e9ca0>,\n 'A.352': <arqmath_code.topic_file_reader.Topic at 0x1546e9670>,\n 'A.353': <arqmath_code.topic_file_reader.Topic at 0x1546e9e50>,\n 'A.354': <arqmath_code.topic_file_reader.Topic at 0x1546e93a0>,\n 'A.355': <arqmath_code.topic_file_reader.Topic at 0x1546e9760>,\n 'A.356': <arqmath_code.topic_file_reader.Topic at 0x1546e9580>,\n 'A.357': <arqmath_code.topic_file_reader.Topic at 0x1546e9ee0>,\n 'A.358': <arqmath_code.topic_file_reader.Topic at 0x1546e92e0>,\n 'A.359': <arqmath_code.topic_file_reader.Topic at 0x1546e9190>,\n 'A.360': <arqmath_code.topic_file_reader.Topic at 0x1546e9370>,\n 'A.361': <arqmath_code.topic_file_reader.Topic at 0x1546e97c0>,\n 'A.362': <arqmath_code.topic_file_reader.Topic at 0x1546e9790>,\n 'A.363': <arqmath_code.topic_file_reader.Topic at 0x1546e9dc0>,\n 'A.364': <arqmath_code.topic_file_reader.Topic at 0x1546e9fd0>,\n 'A.365': <arqmath_code.topic_file_reader.Topic at 0x1546e95e0>,\n 'A.366': <arqmath_code.topic_file_reader.Topic at 0x1546e9820>,\n 'A.367': <arqmath_code.topic_file_reader.Topic at 0x1546e9f40>,\n 'A.368': <arqmath_code.topic_file_reader.Topic at 0x1546e9ac0>,\n 'A.369': <arqmath_code.topic_file_reader.Topic at 0x1546e98b0>,\n 'A.370': <arqmath_code.topic_file_reader.Topic at 0x1546e93d0>,\n 'A.371': <arqmath_code.topic_file_reader.Topic at 0x1546e91f0>,\n 'A.372': <arqmath_code.topic_file_reader.Topic at 0x1546e9310>,\n 'A.373': <arqmath_code.topic_file_reader.Topic at 0x1546e94c0>,\n 'A.374': <arqmath_code.topic_file_reader.Topic at 0x1546e9a90>,\n 'A.375': <arqmath_code.topic_file_reader.Topic at 0x1546e9b80>,\n 'A.376': <arqmath_code.topic_file_reader.Topic at 0x1546e99a0>,\n 'A.377': <arqmath_code.topic_file_reader.Topic at 0x36a88dd60>,\n 'A.378': <arqmath_code.topic_file_reader.Topic at 0x36a88db20>,\n 'A.379': <arqmath_code.topic_file_reader.Topic at 0x36a88de80>,\n 'A.380': <arqmath_code.topic_file_reader.Topic at 0x36a88dd90>,\n 'A.381': <arqmath_code.topic_file_reader.Topic at 0x36a88dfa0>,\n 'A.382': <arqmath_code.topic_file_reader.Topic at 0x36a88deb0>,\n 'A.383': <arqmath_code.topic_file_reader.Topic at 0x16915c040>,\n 'A.384': <arqmath_code.topic_file_reader.Topic at 0x16915c0a0>,\n 'A.385': <arqmath_code.topic_file_reader.Topic at 0x16915c100>,\n 'A.386': <arqmath_code.topic_file_reader.Topic at 0x16915c160>,\n 'A.387': <arqmath_code.topic_file_reader.Topic at 0x16915c1c0>,\n 'A.388': <arqmath_code.topic_file_reader.Topic at 0x16915c220>,\n 'A.389': <arqmath_code.topic_file_reader.Topic at 0x16915c280>,\n 'A.390': <arqmath_code.topic_file_reader.Topic at 0x16915c2e0>,\n 'A.391': <arqmath_code.topic_file_reader.Topic at 0x16915c340>,\n 'A.392': <arqmath_code.topic_file_reader.Topic at 0x16915c3a0>,\n 'A.393': <arqmath_code.topic_file_reader.Topic at 0x16915c400>,\n 'A.394': <arqmath_code.topic_file_reader.Topic at 0x16915c460>,\n 'A.395': <arqmath_code.topic_file_reader.Topic at 0x16915c4c0>,\n 'A.396': <arqmath_code.topic_file_reader.Topic at 0x16915c520>,\n 'A.397': <arqmath_code.topic_file_reader.Topic at 0x16915c580>,\n 'A.398': <arqmath_code.topic_file_reader.Topic at 0x16915c5e0>,\n 'A.399': <arqmath_code.topic_file_reader.Topic at 0x16915c640>,\n 'A.400': <arqmath_code.topic_file_reader.Topic at 0x16915c6a0>}"
     },
     "execution_count": 7,
     "metadata": {},
     "output_type": "execute_result"
    }
   ],
   "source": [
    "topicReader.map_topics"
   ],
   "metadata": {
    "collapsed": false,
    "pycharm": {
     "name": "#%%\n"
    }
   }
  },
  {
   "cell_type": "code",
   "execution_count": 10,
   "outputs": [
    {
     "name": "stdout",
     "output_type": "stream",
     "text": [
      "topic_id: A.301,\n",
      "title: Inequality between norm 1,norm 2 and norm <span class=\"math-container\" id=\"q_1\">$\\infty$</span> of Matrices\n",
      "question: <p>Suppose <span class=\"math-container\" id=\"q_2\">$A$</span> is a <span class=\"math-container\" id=\"q_3\">$m\\times n$</span> matrix.</p> <p>Then Prove that, <span class=\"math-container\" id=\"q_7\">$\\begin{equation*} \\|A\\|_2\\leq \\sqrt{\\|A\\|_1 \\|A\\|_{\\infty}} \\end{equation*}$</span></p> <p>I have proved the following relations: <span class=\"math-container\" id=\"q_8\">$\\begin{align*} \\frac{1}{\\sqrt{n}}\\|A\\|_{\\infty}\\leq \\|A\\|_2\\leq\\sqrt{m}\\|A\\|_{\\infty}\\\\ \\frac{1}{\\sqrt{m}}\\|A\\|_{1}\\leq \\|A\\|_2\\leq\\sqrt{n}\\|A\\|_{1} \\end{align*}$</span> Also I feel that somehow Holder's inequality for the special case when <span class=\"math-container\" id=\"q_4\">$p=1$</span> and <span class=\"math-container\" id=\"q_5\">$q=\\infty$</span> might be useful.But I couldn't prove that.</p> <p>Edit: I would like to have a prove that do not use the information that <span class=\"math-container\" id=\"q_6\">$\\|A\\|_2=\\sqrt{\\rho(A^TA)}$</span></p> <p>Usage of inequalities like Cauchy Schwartz or Holder is fine.</p> \n",
      "lst_tags: ['linear-algebra', 'matrices', 'inequality', 'norm', 'holder-inequality']\n",
      "\n"
     ]
    }
   ],
   "source": [
    "topic_A301 = topicReader.get_topic('A.301')\n",
    "print(f\"topic_id: {topic_A301.topic_id},\\n\"\n",
    "      f\"title: {topic_A301.title}\\n\"\n",
    "      f\"question: {topic_A301.question}\\n\"\n",
    "      f\"lst_tags: {topic_A301.lst_tags}\\n\")"
   ],
   "metadata": {
    "collapsed": false,
    "pycharm": {
     "name": "#%%\n"
    }
   }
  }
 ],
 "metadata": {
  "kernelspec": {
   "display_name": "Python 3",
   "language": "python",
   "name": "python3"
  },
  "language_info": {
   "codemirror_mode": {
    "name": "ipython",
    "version": 2
   },
   "file_extension": ".py",
   "mimetype": "text/x-python",
   "name": "python",
   "nbconvert_exporter": "python",
   "pygments_lexer": "ipython2",
   "version": "2.7.6"
  }
 },
 "nbformat": 4,
 "nbformat_minor": 0
}