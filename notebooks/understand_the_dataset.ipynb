{
 "cells": [
  {
   "cell_type": "code",
   "execution_count": 1,
   "metadata": {
    "collapsed": true,
    "pycharm": {
     "name": "#%%\n"
    }
   },
   "outputs": [],
   "source": [
    "from post_reader_record import DataReaderRecord"
   ]
  },
  {
   "cell_type": "code",
   "execution_count": 2,
   "outputs": [
    {
     "name": "stdout",
     "output_type": "stream",
     "text": [
      "reading users\n",
      "reading comments\n",
      "reading votes\n",
      "reading post links\n",
      "reading posts\n"
     ]
    }
   ],
   "source": [
    "reader = DataReaderRecord(\"arqmath_dataset\", \".V1.3\")"
   ],
   "metadata": {
    "collapsed": false,
    "pycharm": {
     "name": "#%%\n"
    }
   }
  },
  {
   "cell_type": "code",
   "execution_count": 18,
   "outputs": [],
   "source": [
    "answer = reader.get_answers_posted_by_user(11)"
   ],
   "metadata": {
    "collapsed": false,
    "pycharm": {
     "name": "#%%\n"
    }
   }
  },
  {
   "cell_type": "code",
   "execution_count": 19,
   "outputs": [
    {
     "name": "stdout",
     "output_type": "stream",
     "text": [
      "<p>The dot product can be used to find the length of a vector or the angle between two vectors.</p>  <p>The cross product is used to find a vector which is perpendicular to the plane spanned by two vectors.</p> \n",
      "<p>If you were supposed to find the <em>last</em> ten digits, you could just ignore the first 40 digits of each number. However you're supposed to find the <em>first</em> ten digits, so that doesn't work. And you can't just ignore the last digits of each number either because those <em>can</em> carry over.</p> \n",
      "<p>You seem to be saying that if a set contains the empty set, it is itself empty. This not true. In fact the opposite is true:</p>  <p>A set is empty if and only if it contains no elements. If a set contains the empty set, it has at least one element (the empty set) and is thus, by definition, not empty.</p> \n",
      "<p>Your first instinct was right: <span class=\"math-container\" id=\"112517\">P(\\{a,b\\}) \\times P(\\{p,q\\})</span> contains <span class=\"math-container\" id=\"112518\">(\\emptyset, \\emptyset)</span>, but not <span class=\"math-container\" id=\"112519\">\\emptyset</span>. <span class=\"math-container\" id=\"112520\">(\\emptyset, \\emptyset)</span> is not the empty set, so <span class=\"math-container\" id=\"112521\">P(a,b) \\times P(p,q)</span> does not contain the empty set.</p>  <p>And yes, every powerset contains the empty set, but <span class=\"math-container\" id=\"112522\">P(a,b) \\times P(p,q)</span> is not a powerset, it's the cartesian product of two powersets.</p> \n",
      "<blockquote>   <p>However, how is this not transitive?</p> </blockquote>  <p>There is an edge from Z to A and one from A to Z, but no edge from Z to itself or from A to itself.</p>  <blockquote>   <p>Does this mean that if a relation is transitive, then it is also irreflexive?</p> </blockquote>  <p>No, it means that if a transitive relation is irreflexive, it is also asymmetric and a strict partial order (and if it is asymmetric, it is also irreflexive etc.).</p>  <p>So if the graph was transitive, its irreflexivity would imply that it's also antisymmetric, but since the graph is not transitive, this does not apply.</p> \n",
      "<blockquote>   <p>Is there an equation stating the number of times you would have to half a number to reduce it to some value less than or equal to 1.</p> </blockquote>  <p>That would be the logarithm to base 2 rounded up to the next integer.</p>  <blockquote>   <p>Also, is there a representation using the floor function in conjunction?</p> </blockquote>  <p>That would be the logarithm to base 2 rounded down.</p> \n"
     ]
    }
   ],
   "source": [
    "for e in answer:\n",
    "    print(e.body)"
   ],
   "metadata": {
    "collapsed": false,
    "pycharm": {
     "name": "#%%\n"
    }
   }
  }
 ],
 "metadata": {
  "kernelspec": {
   "display_name": "Python 3",
   "language": "python",
   "name": "python3"
  },
  "language_info": {
   "codemirror_mode": {
    "name": "ipython",
    "version": 2
   },
   "file_extension": ".py",
   "mimetype": "text/x-python",
   "name": "python",
   "nbconvert_exporter": "python",
   "pygments_lexer": "ipython2",
   "version": "2.7.6"
  }
 },
 "nbformat": 4,
 "nbformat_minor": 0
}