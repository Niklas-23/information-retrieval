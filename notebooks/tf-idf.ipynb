{
 "cells": [
  {
   "cell_type": "markdown",
   "source": [
    "# Notebook for tf-idf information retrieval"
   ],
   "metadata": {
    "collapsed": false,
    "pycharm": {
     "name": "#%% md\n"
    }
   }
  },
  {
   "cell_type": "code",
   "execution_count": 2,
   "metadata": {
    "collapsed": true,
    "pycharm": {
     "name": "#%%\n"
    }
   },
   "outputs": [
    {
     "ename": "ImportError",
     "evalue": "cannot import name 'init_data' from 'src' (unknown location)",
     "output_type": "error",
     "traceback": [
      "\u001B[0;31m---------------------------------------------------------------------------\u001B[0m",
      "\u001B[0;31mImportError\u001B[0m                               Traceback (most recent call last)",
      "Input \u001B[0;32mIn [2]\u001B[0m, in \u001B[0;36m<cell line: 2>\u001B[0;34m()\u001B[0m\n\u001B[1;32m      1\u001B[0m \u001B[38;5;28;01mfrom\u001B[39;00m \u001B[38;5;21;01msklearn\u001B[39;00m\u001B[38;5;21;01m.\u001B[39;00m\u001B[38;5;21;01mfeature_extraction\u001B[39;00m\u001B[38;5;21;01m.\u001B[39;00m\u001B[38;5;21;01mtext\u001B[39;00m \u001B[38;5;28;01mimport\u001B[39;00m TfidfVectorizer\n\u001B[0;32m----> 2\u001B[0m \u001B[38;5;28;01mfrom\u001B[39;00m \u001B[38;5;21;01msrc\u001B[39;00m \u001B[38;5;28;01mimport\u001B[39;00m init_data\n\u001B[1;32m      3\u001B[0m \u001B[38;5;28;01mfrom\u001B[39;00m \u001B[38;5;21;01marqmath_code\u001B[39;00m\u001B[38;5;21;01m.\u001B[39;00m\u001B[38;5;21;01mtopic_file_reader\u001B[39;00m \u001B[38;5;28;01mimport\u001B[39;00m Topic\n\u001B[1;32m      4\u001B[0m \u001B[38;5;28;01mfrom\u001B[39;00m \u001B[38;5;21;01marqmath_code\u001B[39;00m\u001B[38;5;21;01m.\u001B[39;00m\u001B[38;5;21;01mEntities\u001B[39;00m\u001B[38;5;21;01m.\u001B[39;00m\u001B[38;5;21;01mPost\u001B[39;00m \u001B[38;5;28;01mimport\u001B[39;00m Post\n",
      "\u001B[0;31mImportError\u001B[0m: cannot import name 'init_data' from 'src' (unknown location)"
     ]
    }
   ],
   "source": [
    "from sklearn.feature_extraction.text import TfidfVectorizer\n",
    "from src import init_data\n",
    "from arqmath_code.topic_file_reader import Topic\n",
    "from arqmath_code.Entities.Post import Post\n",
    "import re"
   ]
  },
  {
   "cell_type": "code",
   "execution_count": null,
   "outputs": [
    {
     "name": "stdout",
     "output_type": "stream",
     "text": [
      "reading users\n",
      "reading comments\n",
      "reading votes\n"
     ]
    }
   ],
   "source": [
    "topic_reader, data_reader = init_data(task=1)"
   ],
   "metadata": {
    "collapsed": false,
    "pycharm": {
     "name": "#%%\n"
    }
   }
  },
  {
   "cell_type": "code",
   "execution_count": 8,
   "outputs": [],
   "source": [
    "test_topic: Topic = topic_reader.get_topic('A.301')"
   ],
   "metadata": {
    "collapsed": false,
    "pycharm": {
     "name": "#%%\n"
    }
   }
  },
  {
   "cell_type": "markdown",
   "source": [
    "## Remove html tags\n",
    "As we are not interested in their word counts in the actual tf-idf vectors"
   ],
   "metadata": {
    "collapsed": false,
    "pycharm": {
     "name": "#%% md\n"
    }
   }
  },
  {
   "cell_type": "code",
   "execution_count": 12,
   "outputs": [
    {
     "data": {
      "text/plain": "\"Suppose $A$ is a $m\\\\times n$ matrix. Then Prove that, $\\\\begin{equation*} \\\\|A\\\\|_2\\\\leq \\\\sqrt{\\\\|A\\\\|_1 \\\\|A\\\\|_{\\\\infty}} \\\\end{equation*}$ I have proved the following relations: $\\\\begin{align*} \\\\frac{1}{\\\\sqrt{n}}\\\\|A\\\\|_{\\\\infty}\\\\leq \\\\|A\\\\|_2\\\\leq\\\\sqrt{m}\\\\|A\\\\|_{\\\\infty}\\\\\\\\ \\\\frac{1}{\\\\sqrt{m}}\\\\|A\\\\|_{1}\\\\leq \\\\|A\\\\|_2\\\\leq\\\\sqrt{n}\\\\|A\\\\|_{1} \\\\end{align*}$ Also I feel that somehow Holder's inequality for the special case when $p=1$ and $q=\\\\infty$ might be useful.But I couldn't prove that. Edit: I would like to have a prove that do not use the information that $\\\\|A\\\\|_2=\\\\sqrt{\\\\rho(A^TA)}$ Usage of inequalities like Cauchy Schwartz or Holder is fine. \""
     },
     "execution_count": 12,
     "metadata": {},
     "output_type": "execute_result"
    }
   ],
   "source": [
    "test_topic.title = re.sub(r\"</?(p|span)[^>]*>\", \"\", test_topic.title)\n",
    "test_topic.question = re.sub(r\"</?(p|span)[^>]*>\", \"\", test_topic.question)\n",
    "test_topic.question"
   ],
   "metadata": {
    "collapsed": false,
    "pycharm": {
     "name": "#%%\n"
    }
   }
  },
  {
   "cell_type": "code",
   "execution_count": 15,
   "outputs": [],
   "source": [
    "def remove_html_tags_from_post(post: Post):\n",
    "    post.body = re.sub(r\"</?(p|span)[^>]*>\", \"\", post.body)"
   ],
   "metadata": {
    "collapsed": false,
    "pycharm": {
     "name": "#%%\n"
    }
   }
  },
  {
   "cell_type": "markdown",
   "source": [
    "## Retrieve Subset of Document Collection by tags\n",
    "Equivalent to a binary retrieval of documents by only considering tags"
   ],
   "metadata": {
    "collapsed": false,
    "pycharm": {
     "name": "#%% md\n"
    }
   }
  },
  {
   "cell_type": "code",
   "execution_count": 17,
   "outputs": [
    {
     "data": {
      "text/plain": "['linear-algebra',\n 'linear-algebra',\n 'linear-algebra',\n 'linear-algebra',\n 'linear-algebra',\n 'linear-algebra',\n 'linear-algebra',\n 'linear-algebra',\n 'linear-algebra',\n 'linear-algebra',\n 'linear-algebra',\n 'linear-algebra',\n 'linear-algebra',\n 'linear-algebra',\n 'linear-algebra',\n 'linear-algebra',\n 'linear-algebra',\n 'linear-algebra',\n 'linear-algebra',\n 'linear-algebra',\n 'linear-algebra',\n 'linear-algebra',\n 'linear-algebra',\n 'linear-algebra',\n 'linear-algebra',\n 'linear-algebra',\n 'linear-algebra',\n 'linear-algebra',\n 'linear-algebra',\n 'linear-algebra',\n 'linear-algebra',\n 'linear-algebra',\n 'linear-algebra',\n 'linear-algebra',\n 'linear-algebra',\n 'linear-algebra',\n 'linear-algebra',\n 'linear-algebra',\n 'linear-algebra',\n 'linear-algebra',\n 'linear-algebra',\n 'linear-algebra',\n 'linear-algebra',\n 'linear-algebra',\n 'linear-algebra',\n 'linear-algebra',\n 'linear-algebra',\n 'linear-algebra',\n 'linear-algebra',\n 'linear-algebra',\n 'linear-algebra',\n 'linear-algebra',\n 'linear-algebra',\n 'linear-algebra',\n 'linear-algebra',\n 'linear-algebra',\n 'linear-algebra',\n 'linear-algebra',\n 'linear-algebra',\n 'linear-algebra',\n 'linear-algebra',\n 'linear-algebra',\n 'linear-algebra',\n 'linear-algebra',\n 'linear-algebra',\n 'linear-algebra',\n 'linear-algebra',\n 'linear-algebra',\n 'linear-algebra',\n 'linear-algebra',\n 'linear-algebra',\n 'linear-algebra',\n 'linear-algebra',\n 'linear-algebra',\n 'linear-algebra',\n 'linear-algebra',\n 'linear-algebra',\n 'linear-algebra',\n 'linear-algebra',\n 'linear-algebra',\n 'linear-algebra',\n 'linear-algebra',\n 'linear-algebra',\n 'linear-algebra',\n 'linear-algebra',\n 'linear-algebra',\n 'linear-algebra',\n 'linear-algebra',\n 'linear-algebra',\n 'linear-algebra',\n 'linear-algebra',\n 'linear-algebra',\n 'linear-algebra',\n 'linear-algebra',\n 'linear-algebra',\n 'linear-algebra',\n 'linear-algebra',\n 'linear-algebra',\n 'linear-algebra',\n 'linear-algebra',\n 'linear-algebra',\n 'linear-algebra',\n 'linear-algebra',\n 'linear-algebra',\n 'linear-algebra',\n 'linear-algebra',\n 'linear-algebra',\n 'linear-algebra',\n 'linear-algebra',\n 'linear-algebra',\n 'linear-algebra',\n 'linear-algebra',\n 'linear-algebra',\n 'linear-algebra',\n 'linear-algebra',\n 'linear-algebra',\n 'linear-algebra',\n 'linear-algebra',\n 'linear-algebra',\n 'linear-algebra',\n 'linear-algebra',\n 'linear-algebra',\n 'linear-algebra',\n 'linear-algebra',\n 'linear-algebra',\n 'linear-algebra',\n 'linear-algebra',\n 'linear-algebra',\n 'linear-algebra',\n 'linear-algebra',\n 'linear-algebra',\n 'linear-algebra',\n 'linear-algebra',\n 'linear-algebra',\n 'linear-algebra',\n 'linear-algebra',\n 'linear-algebra',\n 'linear-algebra',\n 'linear-algebra',\n 'linear-algebra',\n 'linear-algebra',\n 'linear-algebra',\n 'linear-algebra',\n 'linear-algebra',\n 'linear-algebra',\n 'linear-algebra',\n 'linear-algebra',\n 'linear-algebra',\n 'linear-algebra',\n 'linear-algebra',\n 'linear-algebra',\n 'linear-algebra',\n 'linear-algebra',\n 'linear-algebra',\n 'linear-algebra',\n 'linear-algebra',\n 'linear-algebra',\n 'linear-algebra',\n 'linear-algebra',\n 'linear-algebra',\n 'linear-algebra',\n 'linear-algebra',\n 'linear-algebra',\n 'linear-algebra',\n 'linear-algebra',\n 'linear-algebra',\n 'linear-algebra',\n 'linear-algebra',\n 'linear-algebra',\n 'linear-algebra',\n 'linear-algebra',\n 'linear-algebra',\n 'linear-algebra',\n 'linear-algebra',\n 'linear-algebra',\n 'linear-algebra',\n 'linear-algebra',\n 'linear-algebra',\n 'linear-algebra',\n 'linear-algebra',\n 'linear-algebra',\n 'linear-algebra',\n 'linear-algebra',\n 'linear-algebra',\n 'linear-algebra',\n 'linear-algebra',\n 'linear-algebra',\n 'linear-algebra',\n 'linear-algebra',\n 'linear-algebra',\n 'linear-algebra',\n 'linear-algebra',\n 'linear-algebra',\n 'linear-algebra',\n 'linear-algebra',\n 'linear-algebra',\n 'linear-algebra',\n 'linear-algebra',\n 'linear-algebra',\n 'linear-algebra',\n 'linear-algebra',\n 'linear-algebra',\n 'linear-algebra',\n 'linear-algebra',\n 'linear-algebra',\n 'linear-algebra',\n 'linear-algebra',\n 'linear-algebra',\n 'linear-algebra',\n 'linear-algebra',\n 'linear-algebra',\n 'linear-algebra',\n 'linear-algebra',\n 'linear-algebra',\n 'linear-algebra',\n 'linear-algebra',\n 'linear-algebra',\n 'linear-algebra',\n 'linear-algebra',\n 'linear-algebra',\n 'linear-algebra',\n 'linear-algebra',\n 'linear-algebra',\n 'linear-algebra',\n 'linear-algebra',\n 'linear-algebra',\n 'linear-algebra',\n 'linear-algebra',\n 'linear-algebra',\n 'linear-algebra',\n 'linear-algebra',\n 'linear-algebra',\n 'linear-algebra',\n 'linear-algebra',\n 'linear-algebra',\n 'linear-algebra',\n 'linear-algebra',\n 'linear-algebra',\n 'linear-algebra',\n 'linear-algebra',\n 'linear-algebra',\n 'linear-algebra',\n 'linear-algebra',\n 'linear-algebra',\n 'linear-algebra',\n 'linear-algebra',\n 'linear-algebra',\n 'linear-algebra',\n 'linear-algebra',\n 'linear-algebra',\n 'linear-algebra',\n 'linear-algebra',\n 'linear-algebra',\n 'linear-algebra',\n 'linear-algebra',\n 'linear-algebra',\n 'linear-algebra',\n 'linear-algebra',\n 'linear-algebra',\n 'linear-algebra',\n 'linear-algebra',\n 'linear-algebra',\n 'linear-algebra',\n 'linear-algebra',\n 'linear-algebra',\n 'linear-algebra',\n 'linear-algebra',\n 'linear-algebra',\n 'linear-algebra',\n 'linear-algebra',\n 'linear-algebra',\n 'linear-algebra',\n 'linear-algebra',\n 'linear-algebra',\n 'linear-algebra',\n 'linear-algebra',\n 'linear-algebra',\n 'linear-algebra',\n 'linear-algebra',\n 'linear-algebra',\n 'linear-algebra',\n 'linear-algebra',\n 'linear-algebra',\n 'linear-algebra',\n 'linear-algebra',\n 'linear-algebra',\n 'linear-algebra',\n 'linear-algebra',\n 'linear-algebra',\n 'linear-algebra',\n 'linear-algebra',\n 'linear-algebra',\n 'linear-algebra',\n 'linear-algebra',\n 'linear-algebra',\n 'linear-algebra',\n 'linear-algebra',\n 'linear-algebra',\n 'linear-algebra',\n 'linear-algebra',\n 'linear-algebra',\n 'linear-algebra',\n 'linear-algebra',\n 'linear-algebra',\n 'linear-algebra',\n 'linear-algebra',\n 'linear-algebra',\n 'linear-algebra',\n 'linear-algebra',\n 'linear-algebra',\n 'linear-algebra',\n 'linear-algebra',\n 'linear-algebra',\n 'linear-algebra',\n 'linear-algebra',\n 'linear-algebra',\n 'linear-algebra',\n 'linear-algebra',\n 'linear-algebra',\n 'linear-algebra',\n 'linear-algebra',\n 'linear-algebra',\n 'linear-algebra',\n 'linear-algebra',\n 'linear-algebra',\n 'linear-algebra',\n 'linear-algebra',\n 'linear-algebra',\n 'linear-algebra',\n 'linear-algebra',\n 'linear-algebra',\n 'linear-algebra',\n 'linear-algebra',\n 'linear-algebra',\n 'linear-algebra',\n 'linear-algebra',\n 'linear-algebra',\n 'linear-algebra',\n 'linear-algebra',\n 'linear-algebra',\n 'linear-algebra',\n 'linear-algebra',\n 'linear-algebra',\n 'linear-algebra',\n 'linear-algebra',\n 'linear-algebra',\n 'linear-algebra',\n 'linear-algebra',\n 'linear-algebra',\n 'linear-algebra',\n 'linear-algebra',\n 'linear-algebra',\n 'linear-algebra',\n 'linear-algebra',\n 'linear-algebra',\n 'linear-algebra',\n 'linear-algebra',\n 'linear-algebra',\n 'linear-algebra',\n 'linear-algebra',\n 'linear-algebra',\n 'linear-algebra',\n 'linear-algebra',\n 'linear-algebra',\n 'linear-algebra',\n 'linear-algebra',\n 'linear-algebra',\n 'linear-algebra',\n 'linear-algebra',\n 'linear-algebra',\n 'linear-algebra',\n 'linear-algebra',\n 'linear-algebra',\n 'linear-algebra',\n 'linear-algebra',\n 'linear-algebra',\n 'linear-algebra',\n 'linear-algebra',\n 'linear-algebra',\n 'linear-algebra',\n 'linear-algebra',\n 'linear-algebra',\n 'linear-algebra',\n 'linear-algebra',\n 'linear-algebra',\n 'linear-algebra',\n 'linear-algebra',\n 'linear-algebra',\n 'linear-algebra',\n 'linear-algebra',\n 'linear-algebra',\n 'linear-algebra',\n 'linear-algebra',\n 'linear-algebra',\n 'linear-algebra',\n 'linear-algebra',\n 'linear-algebra',\n 'linear-algebra',\n 'linear-algebra',\n 'linear-algebra',\n 'linear-algebra',\n 'linear-algebra',\n 'linear-algebra',\n 'linear-algebra',\n 'linear-algebra',\n 'linear-algebra',\n 'linear-algebra',\n 'linear-algebra',\n 'linear-algebra',\n 'linear-algebra',\n 'linear-algebra',\n 'linear-algebra',\n 'linear-algebra',\n 'linear-algebra',\n 'linear-algebra',\n 'linear-algebra',\n 'linear-algebra',\n 'linear-algebra',\n 'linear-algebra',\n 'linear-algebra',\n 'linear-algebra',\n 'linear-algebra',\n 'linear-algebra',\n 'linear-algebra',\n 'linear-algebra',\n 'linear-algebra',\n 'linear-algebra',\n 'linear-algebra',\n 'linear-algebra',\n 'linear-algebra',\n 'linear-algebra',\n 'linear-algebra',\n 'linear-algebra',\n 'linear-algebra',\n 'linear-algebra',\n 'linear-algebra',\n 'linear-algebra',\n 'linear-algebra',\n 'linear-algebra',\n 'linear-algebra',\n 'linear-algebra',\n 'linear-algebra',\n 'linear-algebra',\n 'linear-algebra',\n 'linear-algebra',\n 'linear-algebra',\n 'linear-algebra',\n 'linear-algebra',\n 'linear-algebra',\n 'linear-algebra',\n 'linear-algebra',\n 'linear-algebra',\n 'linear-algebra',\n 'linear-algebra',\n 'linear-algebra',\n 'linear-algebra',\n 'linear-algebra',\n 'linear-algebra',\n 'linear-algebra',\n 'linear-algebra',\n 'linear-algebra',\n 'linear-algebra',\n 'linear-algebra',\n 'linear-algebra',\n 'linear-algebra',\n 'linear-algebra',\n 'linear-algebra',\n 'linear-algebra',\n 'linear-algebra',\n 'linear-algebra',\n 'linear-algebra',\n 'linear-algebra',\n 'linear-algebra',\n 'linear-algebra',\n 'linear-algebra',\n 'linear-algebra',\n 'linear-algebra',\n 'linear-algebra',\n 'linear-algebra',\n 'linear-algebra',\n 'linear-algebra',\n 'linear-algebra',\n 'linear-algebra',\n 'linear-algebra',\n 'linear-algebra',\n 'linear-algebra',\n 'linear-algebra',\n 'linear-algebra',\n 'linear-algebra',\n 'linear-algebra',\n 'linear-algebra',\n 'linear-algebra',\n 'linear-algebra',\n 'linear-algebra',\n 'linear-algebra',\n 'linear-algebra',\n 'linear-algebra',\n 'linear-algebra',\n 'linear-algebra',\n 'linear-algebra',\n 'linear-algebra',\n 'linear-algebra',\n 'linear-algebra',\n 'linear-algebra',\n 'linear-algebra',\n 'linear-algebra',\n 'linear-algebra',\n 'linear-algebra',\n 'linear-algebra',\n 'linear-algebra',\n 'linear-algebra',\n 'linear-algebra',\n 'linear-algebra',\n 'linear-algebra',\n 'linear-algebra',\n 'linear-algebra',\n 'linear-algebra',\n 'linear-algebra',\n 'linear-algebra',\n 'linear-algebra',\n 'linear-algebra',\n 'linear-algebra',\n 'linear-algebra',\n 'linear-algebra',\n 'linear-algebra',\n 'linear-algebra',\n 'linear-algebra',\n 'linear-algebra',\n 'linear-algebra',\n 'linear-algebra',\n 'linear-algebra',\n 'linear-algebra',\n 'linear-algebra',\n 'linear-algebra',\n 'linear-algebra',\n 'linear-algebra',\n 'linear-algebra',\n 'linear-algebra',\n 'linear-algebra',\n 'linear-algebra',\n 'linear-algebra',\n 'linear-algebra',\n 'linear-algebra',\n 'linear-algebra',\n 'linear-algebra',\n 'linear-algebra',\n 'linear-algebra',\n 'linear-algebra',\n 'linear-algebra',\n 'linear-algebra',\n 'linear-algebra',\n 'linear-algebra',\n 'linear-algebra',\n 'linear-algebra',\n 'linear-algebra',\n 'linear-algebra',\n 'linear-algebra',\n 'linear-algebra',\n 'linear-algebra',\n 'linear-algebra',\n 'linear-algebra',\n 'linear-algebra',\n 'linear-algebra',\n 'linear-algebra',\n 'linear-algebra',\n 'linear-algebra',\n 'linear-algebra',\n 'linear-algebra',\n 'linear-algebra',\n 'linear-algebra',\n 'linear-algebra',\n 'linear-algebra',\n 'linear-algebra',\n 'linear-algebra',\n 'linear-algebra',\n 'linear-algebra',\n 'linear-algebra',\n 'linear-algebra',\n 'linear-algebra',\n 'linear-algebra',\n 'linear-algebra',\n 'linear-algebra',\n 'linear-algebra',\n 'linear-algebra',\n 'linear-algebra',\n 'linear-algebra',\n 'linear-algebra',\n 'linear-algebra',\n 'linear-algebra',\n 'linear-algebra',\n 'linear-algebra',\n 'linear-algebra',\n 'linear-algebra',\n 'linear-algebra',\n 'linear-algebra',\n 'linear-algebra',\n 'linear-algebra',\n 'linear-algebra',\n 'linear-algebra',\n 'linear-algebra',\n 'linear-algebra',\n 'linear-algebra',\n 'linear-algebra',\n 'linear-algebra',\n 'linear-algebra',\n 'linear-algebra',\n 'linear-algebra',\n 'linear-algebra',\n 'linear-algebra',\n 'linear-algebra',\n 'linear-algebra',\n 'linear-algebra',\n 'linear-algebra',\n 'linear-algebra',\n 'linear-algebra',\n 'linear-algebra',\n 'linear-algebra',\n 'linear-algebra',\n 'linear-algebra',\n 'linear-algebra',\n 'linear-algebra',\n 'linear-algebra',\n 'linear-algebra',\n 'linear-algebra',\n 'linear-algebra',\n 'linear-algebra',\n 'linear-algebra',\n 'linear-algebra',\n 'linear-algebra',\n 'linear-algebra',\n 'linear-algebra',\n 'linear-algebra',\n 'linear-algebra',\n 'linear-algebra',\n 'linear-algebra',\n 'linear-algebra',\n 'linear-algebra',\n 'linear-algebra',\n 'linear-algebra',\n 'linear-algebra',\n 'linear-algebra',\n 'linear-algebra',\n 'linear-algebra',\n 'linear-algebra',\n 'linear-algebra',\n 'linear-algebra',\n 'linear-algebra',\n 'linear-algebra',\n 'linear-algebra',\n 'linear-algebra',\n 'linear-algebra',\n 'linear-algebra',\n 'linear-algebra',\n 'linear-algebra',\n 'linear-algebra',\n 'linear-algebra',\n 'linear-algebra',\n 'linear-algebra',\n 'linear-algebra',\n 'linear-algebra',\n 'linear-algebra',\n 'linear-algebra',\n 'linear-algebra',\n 'linear-algebra',\n 'linear-algebra',\n 'linear-algebra',\n 'linear-algebra',\n 'linear-algebra',\n 'linear-algebra',\n 'linear-algebra',\n 'linear-algebra',\n 'linear-algebra',\n 'linear-algebra',\n 'linear-algebra',\n 'linear-algebra',\n 'linear-algebra',\n 'linear-algebra',\n 'linear-algebra',\n 'linear-algebra',\n 'linear-algebra',\n 'linear-algebra',\n 'linear-algebra',\n 'linear-algebra',\n 'linear-algebra',\n 'linear-algebra',\n 'linear-algebra',\n 'linear-algebra',\n 'linear-algebra',\n 'linear-algebra',\n 'linear-algebra',\n 'linear-algebra',\n 'linear-algebra',\n 'linear-algebra',\n 'linear-algebra',\n 'linear-algebra',\n 'linear-algebra',\n 'linear-algebra',\n 'linear-algebra',\n 'linear-algebra',\n 'linear-algebra',\n 'linear-algebra',\n 'linear-algebra',\n 'linear-algebra',\n 'linear-algebra',\n 'linear-algebra',\n 'linear-algebra',\n 'linear-algebra',\n 'linear-algebra',\n 'linear-algebra',\n 'linear-algebra',\n 'linear-algebra',\n 'linear-algebra',\n 'linear-algebra',\n 'linear-algebra',\n 'linear-algebra',\n 'linear-algebra',\n 'linear-algebra',\n 'linear-algebra',\n 'linear-algebra',\n 'linear-algebra',\n 'linear-algebra',\n 'linear-algebra',\n 'linear-algebra',\n 'linear-algebra',\n 'linear-algebra',\n 'linear-algebra',\n 'linear-algebra',\n 'linear-algebra',\n 'linear-algebra',\n 'linear-algebra',\n 'linear-algebra',\n 'linear-algebra',\n 'linear-algebra',\n 'linear-algebra',\n 'linear-algebra',\n 'linear-algebra',\n 'linear-algebra',\n 'linear-algebra',\n 'linear-algebra',\n 'linear-algebra',\n 'linear-algebra',\n 'linear-algebra',\n 'linear-algebra',\n 'linear-algebra',\n 'linear-algebra',\n 'linear-algebra',\n 'linear-algebra',\n 'linear-algebra',\n 'linear-algebra',\n 'linear-algebra',\n 'linear-algebra',\n 'linear-algebra',\n 'linear-algebra',\n 'linear-algebra',\n 'linear-algebra',\n 'linear-algebra',\n 'linear-algebra',\n 'linear-algebra',\n 'linear-algebra',\n 'linear-algebra',\n 'linear-algebra',\n 'linear-algebra',\n 'linear-algebra',\n 'linear-algebra',\n 'linear-algebra',\n 'linear-algebra',\n 'linear-algebra',\n 'linear-algebra',\n 'linear-algebra',\n 'linear-algebra',\n 'linear-algebra',\n 'linear-algebra',\n 'linear-algebra',\n 'linear-algebra',\n 'linear-algebra',\n 'linear-algebra',\n 'linear-algebra',\n 'linear-algebra',\n 'linear-algebra',\n 'linear-algebra',\n 'linear-algebra',\n 'linear-algebra',\n 'linear-algebra',\n 'linear-algebra',\n 'linear-algebra',\n 'linear-algebra',\n 'linear-algebra',\n 'linear-algebra',\n 'linear-algebra',\n 'linear-algebra',\n 'linear-algebra',\n 'linear-algebra',\n 'linear-algebra',\n 'linear-algebra',\n 'linear-algebra',\n 'linear-algebra',\n 'linear-algebra',\n 'linear-algebra',\n 'linear-algebra',\n 'linear-algebra',\n 'linear-algebra',\n 'linear-algebra',\n 'linear-algebra',\n 'linear-algebra',\n 'linear-algebra',\n 'linear-algebra',\n 'linear-algebra',\n 'linear-algebra',\n 'linear-algebra',\n 'linear-algebra',\n 'linear-algebra',\n 'linear-algebra',\n 'linear-algebra',\n 'linear-algebra',\n 'linear-algebra',\n 'linear-algebra',\n 'linear-algebra',\n 'linear-algebra',\n 'linear-algebra',\n 'linear-algebra',\n 'linear-algebra',\n 'linear-algebra',\n 'linear-algebra',\n 'linear-algebra',\n 'linear-algebra',\n 'linear-algebra',\n 'linear-algebra',\n 'linear-algebra',\n 'linear-algebra',\n 'linear-algebra',\n 'linear-algebra',\n 'linear-algebra',\n 'linear-algebra',\n 'linear-algebra',\n 'linear-algebra',\n 'linear-algebra',\n 'linear-algebra',\n 'linear-algebra',\n 'linear-algebra',\n 'linear-algebra',\n 'linear-algebra',\n 'linear-algebra',\n 'linear-algebra',\n 'linear-algebra',\n 'linear-algebra',\n 'linear-algebra',\n 'linear-algebra',\n 'linear-algebra',\n 'linear-algebra',\n 'linear-algebra',\n 'linear-algebra',\n 'linear-algebra',\n 'linear-algebra',\n 'linear-algebra',\n 'linear-algebra',\n 'linear-algebra',\n 'linear-algebra',\n 'linear-algebra',\n 'linear-algebra',\n 'linear-algebra',\n 'linear-algebra',\n 'linear-algebra',\n 'linear-algebra',\n 'linear-algebra',\n 'linear-algebra',\n 'linear-algebra',\n 'linear-algebra',\n 'linear-algebra',\n 'linear-algebra',\n 'linear-algebra',\n 'linear-algebra',\n 'linear-algebra',\n 'linear-algebra',\n 'linear-algebra',\n 'linear-algebra',\n 'linear-algebra',\n 'linear-algebra',\n 'linear-algebra',\n 'linear-algebra',\n 'linear-algebra',\n 'linear-algebra',\n 'linear-algebra',\n 'linear-algebra',\n 'linear-algebra',\n 'linear-algebra',\n 'linear-algebra',\n 'linear-algebra',\n 'linear-algebra',\n 'linear-algebra',\n 'linear-algebra',\n 'linear-algebra',\n 'linear-algebra',\n 'linear-algebra',\n 'linear-algebra',\n 'linear-algebra',\n 'linear-algebra',\n 'linear-algebra',\n 'linear-algebra',\n 'linear-algebra',\n 'linear-algebra',\n 'linear-algebra',\n 'linear-algebra',\n 'linear-algebra',\n 'linear-algebra',\n 'linear-algebra',\n 'linear-algebra',\n 'linear-algebra',\n 'linear-algebra',\n 'linear-algebra',\n 'linear-algebra',\n 'linear-algebra',\n 'linear-algebra',\n 'linear-algebra',\n 'linear-algebra',\n 'linear-algebra',\n 'linear-algebra',\n 'linear-algebra',\n 'linear-algebra',\n 'linear-algebra',\n 'linear-algebra',\n 'linear-algebra',\n 'linear-algebra',\n 'linear-algebra',\n 'linear-algebra',\n 'linear-algebra',\n 'linear-algebra',\n 'linear-algebra',\n 'linear-algebra',\n 'linear-algebra',\n 'linear-algebra',\n 'linear-algebra',\n 'linear-algebra',\n 'linear-algebra',\n 'linear-algebra',\n 'linear-algebra',\n 'linear-algebra',\n 'linear-algebra',\n 'linear-algebra',\n 'linear-algebra',\n 'linear-algebra',\n 'linear-algebra',\n 'linear-algebra',\n 'linear-algebra',\n 'linear-algebra',\n 'linear-algebra',\n 'linear-algebra',\n 'linear-algebra',\n 'linear-algebra',\n 'linear-algebra',\n 'linear-algebra',\n 'linear-algebra',\n 'linear-algebra',\n 'linear-algebra',\n 'linear-algebra',\n 'linear-algebra',\n 'linear-algebra',\n 'linear-algebra',\n 'linear-algebra',\n 'linear-algebra',\n 'linear-algebra',\n 'linear-algebra',\n 'linear-algebra',\n 'linear-algebra',\n 'linear-algebra',\n 'linear-algebra',\n 'linear-algebra',\n 'linear-algebra',\n 'linear-algebra',\n 'linear-algebra',\n 'linear-algebra',\n 'linear-algebra',\n 'linear-algebra',\n 'linear-algebra',\n 'linear-algebra',\n 'linear-algebra',\n 'linear-algebra',\n 'linear-algebra',\n 'linear-algebra',\n 'linear-algebra',\n 'linear-algebra',\n 'linear-algebra',\n 'linear-algebra',\n 'linear-algebra',\n 'linear-algebra',\n 'linear-algebra',\n 'linear-algebra',\n 'linear-algebra',\n 'linear-algebra',\n 'linear-algebra',\n 'linear-algebra',\n 'linear-algebra',\n 'linear-algebra',\n 'linear-algebra',\n 'linear-algebra',\n 'linear-algebra',\n 'linear-algebra',\n 'linear-algebra',\n 'linear-algebra',\n 'linear-algebra',\n 'linear-algebra',\n ...]"
     },
     "execution_count": 17,
     "metadata": {},
     "output_type": "execute_result"
    }
   ],
   "source": [
    "potential_questions = [question for tag in test_topic.lst_tags for question in data_reader.get_question_of_tag(tag=tag)]\n",
    "potential_questions"
   ],
   "metadata": {
    "collapsed": false,
    "pycharm": {
     "name": "#%%\n"
    }
   }
  }
 ],
 "metadata": {
  "kernelspec": {
   "display_name": "Python 3",
   "language": "python",
   "name": "python3"
  },
  "language_info": {
   "codemirror_mode": {
    "name": "ipython",
    "version": 2
   },
   "file_extension": ".py",
   "mimetype": "text/x-python",
   "name": "python",
   "nbconvert_exporter": "python",
   "pygments_lexer": "ipython2",
   "version": "2.7.6"
  }
 },
 "nbformat": 4,
 "nbformat_minor": 0
}