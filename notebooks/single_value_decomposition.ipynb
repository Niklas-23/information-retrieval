{
 "cells": [
  {
   "cell_type": "markdown",
   "source": [
    "# Singular Value Decomposition (SVD)\n"
   ],
   "metadata": {
    "collapsed": false
   }
  },
  {
   "cell_type": "code",
   "execution_count": 1,
   "metadata": {
    "collapsed": true
   },
   "outputs": [],
   "source": [
    "from src.base.pipeline import Pipeline\n",
    "from src.runner import Runner\n",
    "from typing import Tuple, List\n",
    "from arqmath_code.Entities.Post import Answer\n",
    "from arqmath_code.topic_file_reader import Topic"
   ]
  },
  {
   "cell_type": "markdown",
   "source": [
    "## SVD pipeline"
   ],
   "metadata": {
    "collapsed": false
   }
  },
  {
   "cell_type": "code",
   "execution_count": 2,
   "outputs": [
    {
     "name": "stderr",
     "output_type": "stream",
     "text": [
      "[nltk_data] Downloading package stopwords to\n",
      "[nltk_data]     C:\\Users\\Aaron\\AppData\\Roaming\\nltk_data...\n",
      "[nltk_data]   Package stopwords is already up-to-date!\n",
      "[nltk_data] Downloading package punkt to\n",
      "[nltk_data]     C:\\Users\\Aaron\\AppData\\Roaming\\nltk_data...\n",
      "[nltk_data]   Package punkt is already up-to-date!\n"
     ]
    }
   ],
   "source": [
    "from src.pre_processors.nltk_tokenization_and_stopword_removal import NLTKTokenizationAndStopwordRemoval, \\\n",
    "    NLTKTokenizationAndStopwordRemovalForQueries\n",
    "from src.pre_processors.remove_xml_tags import RemoveXMLTagsFromDocumentBody, RemoveXMLTagsFromQueries\n",
    "from src.latent.single_value_decomposition import SingleValueDecompositionModel\n",
    "from src.post_processors.top_k_filter import TopKFilter\n",
    "from arqmath_code.post_reader_record import DataReaderRecord\n",
    "\n",
    "\n",
    "class SVDPipeline(Pipeline):\n",
    "\n",
    "    def __init__(self, data_reader: DataReaderRecord):\n",
    "        super().__init__(data_reader)\n",
    "        self.svd_model = SingleValueDecompositionModel()\n",
    "        self.top1000 = TopKFilter(k=1000)\n",
    "        self.document_tag_remover = RemoveXMLTagsFromDocumentBody()\n",
    "        self.document_tokenizer = NLTKTokenizationAndStopwordRemoval()\n",
    "        self.query_tag_remover = RemoveXMLTagsFromQueries()\n",
    "        self.query_tokenizer = NLTKTokenizationAndStopwordRemovalForQueries()\n",
    "\n",
    "    def run(self, queries: List[Topic]) -> List[Tuple[Topic, Answer, float]]:\n",
    "        all_answers = self.data_reader.get_all_answer_posts()\n",
    "\n",
    "        print(\"Start document preprocessing\")\n",
    "        documents = self.document_tag_remover(queries, all_answers)\n",
    "        documents = self.document_tokenizer(queries, documents)\n",
    "\n",
    "        print(\"Start query preprocessing\")\n",
    "        queries = self.query_tag_remover(queries)\n",
    "        queries = self.query_tokenizer(queries)\n",
    "\n",
    "        print(\"Start ranking\")\n",
    "        ranking = self.svd_model(queries=queries, documents=documents)\n",
    "\n",
    "        print(\"Start top 1000 filtering\")\n",
    "        ranking = self.top1000(queries=None, ranking=ranking)\n",
    "\n",
    "        return ranking\n"
   ],
   "metadata": {
    "collapsed": false,
    "pycharm": {
     "name": "#%%\n"
    }
   }
  },
  {
   "cell_type": "markdown",
   "source": [
    "## Run pipeline"
   ],
   "metadata": {
    "collapsed": false,
    "pycharm": {
     "name": "#%% md\n"
    }
   }
  },
  {
   "cell_type": "code",
   "execution_count": 7,
   "outputs": [
    {
     "name": "stdout",
     "output_type": "stream",
     "text": [
      "2022-11-24 04:18:32.260540\n",
      "reading users\n",
      "reading comments\n",
      "reading votes\n",
      "reading post links\n",
      "reading posts\n",
      "Start document preprocessing\n",
      "Start query preprocessing\n",
      "Start ranking\n",
      "Finished count vectorizer\n",
      "Finished SVD embedding\n",
      "Start top 1000 filtering\n",
      "2022-11-24 09:34:57.746370\n"
     ]
    },
    {
     "data": {
      "text/plain": "      Topic_Id  Post_Id     Score  Run_Number  Rank\n0        A.301   191021  0.850654           0     0\n1        A.301  1308036  0.811295           0     1\n2        A.301   250821  0.796495           0     2\n3        A.301   733611  0.784887           0     3\n4        A.301   323193  0.780250           0     4\n...        ...      ...       ...         ...   ...\n99995    A.400  2450517  0.848617           0   995\n99996    A.400  1789450  0.848611           0   996\n99997    A.400  2872877  0.848602           0   997\n99998    A.400  1890120  0.848561           0   998\n99999    A.400    51431  0.848550           0   999\n\n[100000 rows x 5 columns]",
      "text/html": "<div>\n<style scoped>\n    .dataframe tbody tr th:only-of-type {\n        vertical-align: middle;\n    }\n\n    .dataframe tbody tr th {\n        vertical-align: top;\n    }\n\n    .dataframe thead th {\n        text-align: right;\n    }\n</style>\n<table border=\"1\" class=\"dataframe\">\n  <thead>\n    <tr style=\"text-align: right;\">\n      <th></th>\n      <th>Topic_Id</th>\n      <th>Post_Id</th>\n      <th>Score</th>\n      <th>Run_Number</th>\n      <th>Rank</th>\n    </tr>\n  </thead>\n  <tbody>\n    <tr>\n      <th>0</th>\n      <td>A.301</td>\n      <td>191021</td>\n      <td>0.850654</td>\n      <td>0</td>\n      <td>0</td>\n    </tr>\n    <tr>\n      <th>1</th>\n      <td>A.301</td>\n      <td>1308036</td>\n      <td>0.811295</td>\n      <td>0</td>\n      <td>1</td>\n    </tr>\n    <tr>\n      <th>2</th>\n      <td>A.301</td>\n      <td>250821</td>\n      <td>0.796495</td>\n      <td>0</td>\n      <td>2</td>\n    </tr>\n    <tr>\n      <th>3</th>\n      <td>A.301</td>\n      <td>733611</td>\n      <td>0.784887</td>\n      <td>0</td>\n      <td>3</td>\n    </tr>\n    <tr>\n      <th>4</th>\n      <td>A.301</td>\n      <td>323193</td>\n      <td>0.780250</td>\n      <td>0</td>\n      <td>4</td>\n    </tr>\n    <tr>\n      <th>...</th>\n      <td>...</td>\n      <td>...</td>\n      <td>...</td>\n      <td>...</td>\n      <td>...</td>\n    </tr>\n    <tr>\n      <th>99995</th>\n      <td>A.400</td>\n      <td>2450517</td>\n      <td>0.848617</td>\n      <td>0</td>\n      <td>995</td>\n    </tr>\n    <tr>\n      <th>99996</th>\n      <td>A.400</td>\n      <td>1789450</td>\n      <td>0.848611</td>\n      <td>0</td>\n      <td>996</td>\n    </tr>\n    <tr>\n      <th>99997</th>\n      <td>A.400</td>\n      <td>2872877</td>\n      <td>0.848602</td>\n      <td>0</td>\n      <td>997</td>\n    </tr>\n    <tr>\n      <th>99998</th>\n      <td>A.400</td>\n      <td>1890120</td>\n      <td>0.848561</td>\n      <td>0</td>\n      <td>998</td>\n    </tr>\n    <tr>\n      <th>99999</th>\n      <td>A.400</td>\n      <td>51431</td>\n      <td>0.848550</td>\n      <td>0</td>\n      <td>999</td>\n    </tr>\n  </tbody>\n</table>\n<p>100000 rows × 5 columns</p>\n</div>"
     },
     "execution_count": 7,
     "metadata": {},
     "output_type": "execute_result"
    }
   ],
   "source": [
    "from datetime import datetime\n",
    "print(datetime.now())\n",
    "runner = Runner(SVDPipeline, n=1)\n",
    "ranking = runner.run(\"../results/model_results/svd.tsv\")\n",
    "print(datetime.now())\n",
    "ranking"
   ],
   "metadata": {
    "collapsed": false,
    "pycharm": {
     "name": "#%%\n"
    }
   }
  },
  {
   "cell_type": "markdown",
   "source": [
    "## Evaluation"
   ],
   "metadata": {
    "collapsed": false
   }
  },
  {
   "cell_type": "code",
   "execution_count": 2,
   "outputs": [],
   "source": [
    "from arqmath_code.evaluation.task1 import arqmath_to_prime_task1\n",
    "from arqmath_code.evaluation.task1 import task1_get_results"
   ],
   "metadata": {
    "collapsed": false
   }
  },
  {
   "cell_type": "code",
   "execution_count": 3,
   "outputs": [],
   "source": [
    "qrel_dictionary = arqmath_to_prime_task1.read_qrel_to_dictionary(\"../arqmath_dataset/evaluation/Task 1/Qrel Files/qrel_task1_2022_official.tsv\")\n",
    "arqmath_to_prime_task1.convert_result_files_to_trec(submission_dir=\"../results/model_results/\", qrel_result_dic=qrel_dictionary, prim_dir=\"../results/ARQmath_prim/\", trec_dir=\"../results/ARQmath_trec/\")"
   ],
   "metadata": {
    "collapsed": false
   }
  },
  {
   "cell_type": "code",
   "execution_count": null,
   "outputs": [],
   "source": [
    "number_topics = 78\n",
    "task1_get_results.get_result(trec_eval_tool=\"trec_eval\", qre_file_path=\"../arqmath_dataset/evaluation/Task 1/Qrel Files/qrel_task1_2022_official.tsv\", prim_result_dir=\"../results/ARQmath_prim/\", evaluation_result_file=\"../results/complete_results_v1.tsv\", number_topics=number_topics)"
   ],
   "metadata": {
    "collapsed": false,
    "pycharm": {
     "is_executing": true
    }
   }
  },
  {
   "cell_type": "code",
   "execution_count": null,
   "outputs": [],
   "source": [],
   "metadata": {
    "collapsed": false
   }
  }
 ],
 "metadata": {
  "kernelspec": {
   "display_name": "Python 3",
   "language": "python",
   "name": "python3"
  },
  "language_info": {
   "codemirror_mode": {
    "name": "ipython",
    "version": 2
   },
   "file_extension": ".py",
   "mimetype": "text/x-python",
   "name": "python",
   "nbconvert_exporter": "python",
   "pygments_lexer": "ipython2",
   "version": "2.7.6"
  }
 },
 "nbformat": 4,
 "nbformat_minor": 0
}