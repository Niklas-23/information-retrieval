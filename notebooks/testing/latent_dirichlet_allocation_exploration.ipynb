{
 "cells": [
  {
   "cell_type": "markdown",
   "source": [
    "# PyTerrier retrieval"
   ],
   "metadata": {
    "collapsed": false,
    "pycharm": {
     "name": "#%% md\n"
    }
   }
  },
  {
   "cell_type": "code",
   "execution_count": 1,
   "metadata": {
    "collapsed": true,
    "pycharm": {
     "name": "#%%\n"
    }
   },
   "outputs": [],
   "source": [
    "from sklearn.metrics.pairwise import cosine_similarity\n",
    "import numpy as np\n",
    "from sklearn.feature_extraction.text import CountVectorizer\n",
    "from sklearn.decomposition import LatentDirichletAllocation\n",
    "from pandas import DataFrame"
   ]
  },
  {
   "cell_type": "code",
   "execution_count": 2,
   "outputs": [
    {
     "name": "stdout",
     "output_type": "stream",
     "text": [
      "reading users\n",
      "reading comments\n",
      "reading votes\n",
      "reading post links\n",
      "reading posts\n"
     ]
    }
   ],
   "source": [
    "from src import init_data\n",
    "topic_reader, data_reader = init_data(task=1)"
   ],
   "metadata": {
    "collapsed": false,
    "pycharm": {
     "name": "#%%\n"
    }
   }
  },
  {
   "cell_type": "code",
   "execution_count": 3,
   "outputs": [],
   "source": [
    "queries = list(topic_reader.map_topics.values())[0:5]\n",
    "documents = data_reader.get_all_answer_posts()"
   ],
   "metadata": {
    "collapsed": false,
    "pycharm": {
     "name": "#%%\n"
    }
   }
  },
  {
   "cell_type": "code",
   "execution_count": 11,
   "outputs": [],
   "source": [
    "from bs4 import BeautifulSoup\n",
    "\n",
    "for document in documents:\n",
    "    document.body = BeautifulSoup(document.body).text"
   ],
   "metadata": {
    "collapsed": false,
    "pycharm": {
     "name": "#%%\n"
    }
   }
  },
  {
   "cell_type": "code",
   "execution_count": 13,
   "outputs": [
    {
     "data": {
      "text/plain": "\"You use a proof by contradiction. Basically, you suppose that \\\\sqrt{2} can be written as p/q. Then you know that 2q^2 = p^2. However, both q^2 and p^2 have an even number of factors of two, so 2q^2 has an odd number of factors of 2, which means it can't be equal to p^2. \""
     },
     "execution_count": 13,
     "metadata": {},
     "output_type": "execute_result"
    }
   ],
   "source": [
    "documents[1].body"
   ],
   "metadata": {
    "collapsed": false,
    "pycharm": {
     "name": "#%%\n"
    }
   }
  },
  {
   "cell_type": "code",
   "execution_count": null,
   "outputs": [],
   "source": [
    "import nltk\n",
    "nltk.download('stopwords')\n",
    "nltk.download('punkt')"
   ],
   "metadata": {
    "collapsed": false,
    "pycharm": {
     "name": "#%%\n",
     "is_executing": true
    }
   }
  },
  {
   "cell_type": "code",
   "execution_count": 22,
   "outputs": [],
   "source": [
    "from nltk.corpus import stopwords\n",
    "from nltk.tokenize import word_tokenize\n",
    "stop_word_set = set(stopwords.words('english'))"
   ],
   "metadata": {
    "collapsed": false,
    "pycharm": {
     "name": "#%%\n"
    }
   }
  },
  {
   "cell_type": "code",
   "execution_count": 25,
   "outputs": [],
   "source": [
    "for document in documents:\n",
    "    text_tokens = word_tokenize(document.body)\n",
    "    tokens_without_sw = [word for word in text_tokens if not word in stop_word_set]\n",
    "    filtered_sentence = (\" \").join(tokens_without_sw)\n",
    "    document.body = filtered_sentence"
   ],
   "metadata": {
    "collapsed": false,
    "pycharm": {
     "name": "#%%\n"
    }
   }
  },
  {
   "cell_type": "code",
   "execution_count": 31,
   "outputs": [
    {
     "data": {
      "text/plain": "\"You use proof contradiction . Basically , suppose \\\\sqrt { 2 } written p/q . Then know 2q^2 = p^2 . However , q^2 p^2 even number factors two , 2q^2 odd number factors 2 , means ca n't equal p^2 .\""
     },
     "execution_count": 31,
     "metadata": {},
     "output_type": "execute_result"
    }
   ],
   "source": [
    "documents[1].body"
   ],
   "metadata": {
    "collapsed": false,
    "pycharm": {
     "name": "#%%\n"
    }
   }
  },
  {
   "cell_type": "code",
   "execution_count": 32,
   "outputs": [],
   "source": [
    "collection: DataFrame = DataFrame([document.body for document in documents], columns=[\"text\"])\n",
    "count_vectorizer = CountVectorizer(max_df=0.90, min_df=2, stop_words=\"english\", lowercase=True)\n",
    "document_term_matrix = count_vectorizer.fit_transform(collection[\"text\"])"
   ],
   "metadata": {
    "collapsed": false,
    "pycharm": {
     "name": "#%%\n"
    }
   }
  },
  {
   "cell_type": "code",
   "execution_count": 33,
   "outputs": [
    {
     "data": {
      "text/plain": "<1445495x170326 sparse matrix of type '<class 'numpy.int64'>'\n\twith 43009338 stored elements in Compressed Sparse Row format>"
     },
     "execution_count": 33,
     "metadata": {},
     "output_type": "execute_result"
    }
   ],
   "source": [
    "document_term_matrix"
   ],
   "metadata": {
    "collapsed": false,
    "pycharm": {
     "name": "#%%\n"
    }
   }
  },
  {
   "cell_type": "code",
   "execution_count": 34,
   "outputs": [
    {
     "data": {
      "text/plain": "array(['00', '000', '0000', ..., 'ﬂoer', 'ﬂow', 'ﬂuid'], dtype=object)"
     },
     "execution_count": 34,
     "metadata": {},
     "output_type": "execute_result"
    }
   ],
   "source": [
    "count_vectorizer.get_feature_names_out()"
   ],
   "metadata": {
    "collapsed": false,
    "pycharm": {
     "name": "#%%\n"
    }
   }
  },
  {
   "cell_type": "code",
   "execution_count": 37,
   "outputs": [],
   "source": [
    "lda = LatentDirichletAllocation(n_components=10, random_state=2, n_jobs=-1)\n",
    "document_topics = lda.fit_transform(document_term_matrix)"
   ],
   "metadata": {
    "collapsed": false,
    "pycharm": {
     "name": "#%%\n"
    }
   }
  },
  {
   "cell_type": "code",
   "execution_count": 38,
   "outputs": [
    {
     "name": "stdout",
     "output_type": "stream",
     "text": [
      "(1445495, 10)\n"
     ]
    }
   ],
   "source": [
    "print(document_topics.shape)"
   ],
   "metadata": {
    "collapsed": false,
    "pycharm": {
     "name": "#%%\n"
    }
   }
  },
  {
   "cell_type": "code",
   "execution_count": 50,
   "outputs": [],
   "source": [
    "for topic in queries:\n",
    "    topic.question = BeautifulSoup(topic.question).text"
   ],
   "metadata": {
    "collapsed": false,
    "pycharm": {
     "name": "#%%\n"
    }
   }
  },
  {
   "cell_type": "code",
   "execution_count": 51,
   "outputs": [],
   "source": [
    "for topic in queries:\n",
    "    text_tokens = word_tokenize(topic.question)\n",
    "    tokens_without_sw = [word for word in text_tokens if not word in stop_word_set]\n",
    "    filtered_sentence = (\" \").join(tokens_without_sw)\n",
    "    topic.question = filtered_sentence"
   ],
   "metadata": {
    "collapsed": false,
    "pycharm": {
     "name": "#%%\n"
    }
   }
  },
  {
   "cell_type": "code",
   "execution_count": 52,
   "outputs": [
    {
     "data": {
      "text/plain": "\"Theorem- Up isomorphism , noncommutative Lie algebra dimension 2 basis $ x , $ bracket determined $ [ x , ] = x $ . I understand vector spaces dimension 2 field $ K $ isomorphic . So number lie algebras dimension 2 field $ K $ determined number possible bilinear operations [ ] $ : \\\\ V \\\\ X \\\\ V \\\\rightarrow V $ satisfying conditions $ ) $ $ [ x , x ] =0 $ $ x\\\\in V $ $ b ) $ $ [ x , [ , z ] ] + [ , [ z , x ] ] + [ z , [ x , ] ] =0 $ $ x , , z \\\\in V $ The bilinear operations hand determined elements pair base elements mapped bilinear operation . And since lie algebra $ [ x , x ] = [ , ] =0 $ $ [ x , ] =- [ x , ] $ ony need determine $ [ x , ] $ . Now prove $ [ x , ] =x $ $ [ , x ] =-x $ always ca n't [ , x ] =y vector ?\""
     },
     "execution_count": 52,
     "metadata": {},
     "output_type": "execute_result"
    }
   ],
   "source": [
    "queries[2].question"
   ],
   "metadata": {
    "collapsed": false,
    "pycharm": {
     "name": "#%%\n"
    }
   }
  },
  {
   "cell_type": "code",
   "execution_count": 57,
   "outputs": [
    {
     "data": {
      "text/plain": "<5x170326 sparse matrix of type '<class 'numpy.int64'>'\n\twith 167 stored elements in Compressed Sparse Row format>"
     },
     "execution_count": 57,
     "metadata": {},
     "output_type": "execute_result"
    }
   ],
   "source": [
    "query_frame: DataFrame = DataFrame([topic.question for topic in queries], columns=[\"text\"])\n",
    "query_term_matrix = count_vectorizer.transform(query_frame[\"text\"])\n",
    "query_term_matrix"
   ],
   "metadata": {
    "collapsed": false,
    "pycharm": {
     "name": "#%%\n"
    }
   }
  },
  {
   "cell_type": "code",
   "execution_count": 58,
   "outputs": [
    {
     "name": "stdout",
     "output_type": "stream",
     "text": [
      "(5, 10)\n"
     ]
    }
   ],
   "source": [
    "query_topics = lda.transform(query_term_matrix)\n",
    "print(query_topics.shape)"
   ],
   "metadata": {
    "collapsed": false,
    "pycharm": {
     "name": "#%%\n"
    }
   }
  },
  {
   "cell_type": "code",
   "execution_count": 59,
   "outputs": [
    {
     "name": "stdout",
     "output_type": "stream",
     "text": [
      "(5, 1445495)\n"
     ]
    }
   ],
   "source": [
    "cos_sims: np.ndarray = cosine_similarity(query_topics, document_topics)\n",
    "print(cos_sims.shape)"
   ],
   "metadata": {
    "collapsed": false,
    "pycharm": {
     "name": "#%%\n"
    }
   }
  },
  {
   "cell_type": "code",
   "execution_count": 60,
   "outputs": [
    {
     "data": {
      "text/plain": "array([[0.3493219 , 0.37338611, 0.29517672, ..., 0.48512244, 0.0967937 ,\n        0.04478709],\n       [0.49077973, 0.84159973, 0.41985897, ..., 0.12774375, 0.025076  ,\n        0.13921919],\n       [0.45547321, 0.01332057, 0.53542274, ..., 0.65988109, 0.01232642,\n        0.08817407],\n       [0.96342296, 0.00967005, 0.85189752, ..., 0.14006342, 0.1231762 ,\n        0.00942064],\n       [0.75154976, 0.01389667, 0.64722963, ..., 0.01248457, 0.12543602,\n        0.62064551]])"
     },
     "execution_count": 60,
     "metadata": {},
     "output_type": "execute_result"
    }
   ],
   "source": [
    "cos_sims"
   ],
   "metadata": {
    "collapsed": false,
    "pycharm": {
     "name": "#%%\n"
    }
   }
  },
  {
   "cell_type": "code",
   "execution_count": null,
   "outputs": [],
   "source": [
    "result = []\n",
    "for i, query in enumerate(queries):\n",
    "   per_query = list(zip(range(cos_sims.shape[1]), cos_sims[i,]))\n",
    "   print(per_query)\n",
    "   for j in per_query:\n",
    "       result.append((query, documents[j[0]], j[1]))"
   ],
   "metadata": {
    "collapsed": false,
    "pycharm": {
     "name": "#%%\n",
     "is_executing": true
    }
   }
  },
  {
   "cell_type": "code",
   "execution_count": 72,
   "outputs": [
    {
     "name": "stdout",
     "output_type": "stream",
     "text": [
      "[(0, 0.3493218997081761), (1, 0.3733861107209012), (2, 0.2951767221656128), (3, 0.24473222932434932), (4, 0.26441212813020604), (5, 0.3512625705970236), (6, 0.47372265494681376), (7, 0.5298696610068077), (8, 0.03258188170305733), (9, 0.41138828528560184), (10, 0.3714948318224958), (11, 0.07534578092771996), (12, 0.3811565129037752), (13, 0.3569050843826427), (14, 0.42483115285959505)]\n",
      "--------\n",
      "[(0, 0.49077973134598635), (1, 0.8415997346755468), (2, 0.41985897406443146), (3, 0.34784983713436457), (4, 0.37323239439289263), (5, 0.4954953954155038), (6, 0.8381238205433654), (7, 0.5639275304248651), (8, 0.031204747769877864), (9, 0.5031950094290649), (10, 0.11652081823308097), (11, 0.06001703438253045), (12, 0.5189988519317928), (13, 0.5002850446385844), (14, 0.7745021338629381)]\n",
      "--------\n",
      "[(0, 0.45547321255973733), (1, 0.013320572661420515), (2, 0.5354227436716302), (3, 0.5586757361144622), (4, 0.5037997559042424), (5, 0.38190163991568904), (6, 0.00977179137583973), (7, 0.36911674804866434), (8, 0.02794233540892147), (9, 0.38206303447865114), (10, 0.6021645966487819), (11, 0.39328559604494034), (12, 0.4051427805887637), (13, 0.3864701511155841), (14, 0.46486311617960663)]\n",
      "--------\n",
      "[(0, 0.9634229641124246), (1, 0.009670047034375259), (2, 0.8518975188167998), (3, 0.7102753190473933), (4, 0.781293208739993), (5, 0.9779388636900268), (6, 0.006837143841263067), (7, 0.9402580740522927), (8, 0.04442910164977047), (9, 0.9769886987261555), (10, 0.11080551456915366), (11, 0.04096498961739664), (12, 0.9831141873037779), (13, 0.9807290648226332), (14, 0.8056316575725279)]\n",
      "--------\n",
      "[(0, 0.7515497613236366), (1, 0.013896672449469037), (2, 0.6472296340535012), (3, 0.5350194596375589), (4, 0.5712650604992549), (5, 0.7756052540029841), (6, 0.01046826865542498), (7, 0.7334539064161447), (8, 0.6082983667740504), (9, 0.7608810312605198), (10, 0.19569647818837), (11, 0.03893129025442282), (12, 0.776995604305892), (13, 0.7653410887473692), (14, 0.6275775158444281)]\n",
      "--------\n"
     ]
    }
   ],
   "source": [
    "for i, query in enumerate(queries):\n",
    "   per_query = list(zip(range(cos_sims.shape[1]), cos_sims[i,]))\n",
    "   print(per_query[0:15])\n",
    "   print(\"--------\")"
   ],
   "metadata": {
    "collapsed": false,
    "pycharm": {
     "name": "#%%\n"
    }
   }
  },
  {
   "cell_type": "code",
   "execution_count": 65,
   "outputs": [
    {
     "name": "stdout",
     "output_type": "stream",
     "text": [
      "(<arqmath_code.topic_file_reader.Topic object at 0x107b031f0>, <arqmath_code.Entities.Post.Answer object at 0x518fe5910>, 0.24473222932434932)\n"
     ]
    }
   ],
   "source": [
    "print(result[3])"
   ],
   "metadata": {
    "collapsed": false,
    "pycharm": {
     "name": "#%%\n"
    }
   }
  }
 ],
 "metadata": {
  "kernelspec": {
   "display_name": "Python 3",
   "language": "python",
   "name": "python3"
  },
  "language_info": {
   "codemirror_mode": {
    "name": "ipython",
    "version": 2
   },
   "file_extension": ".py",
   "mimetype": "text/x-python",
   "name": "python",
   "nbconvert_exporter": "python",
   "pygments_lexer": "ipython2",
   "version": "2.7.6"
  }
 },
 "nbformat": 4,
 "nbformat_minor": 0
}