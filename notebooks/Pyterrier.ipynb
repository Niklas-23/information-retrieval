{
 "cells": [
  {
   "cell_type": "code",
   "execution_count": 1,
   "metadata": {
    "collapsed": true,
    "pycharm": {
     "name": "#%%\n"
    }
   },
   "outputs": [],
   "source": [
    "from src import init_data\n",
    "import pyterrier as pt\n",
    "from src.pyterrier.pyterrier_math_formula_coding import translate_latex\n",
    "from arqmath_code.post_reader_record import DataReaderRecord"
   ]
  },
  {
   "cell_type": "code",
   "execution_count": 2,
   "outputs": [
    {
     "name": "stdout",
     "output_type": "stream",
     "text": [
      "reading users\n",
      "reading comments\n",
      "reading votes\n",
      "reading post links\n",
      "reading posts\n"
     ]
    }
   ],
   "source": [
    "topic_reader, data_reader = init_data(task=1)"
   ],
   "metadata": {
    "collapsed": false,
    "pycharm": {
     "name": "#%%\n"
    }
   }
  },
  {
   "cell_type": "code",
   "execution_count": 3,
   "outputs": [
    {
     "name": "stdout",
     "output_type": "stream",
     "text": [
      "WARNING: Not able to assign machine() = arm64 to a cpu value!\n",
      "         Using cpu = 'i386' instead!\n"
     ]
    },
    {
     "name": "stderr",
     "output_type": "stream",
     "text": [
      "PyTerrier 0.8.1 has loaded Terrier 5.6 (built by craigmacdonald on 2021-09-17 13:27)\n",
      "\n",
      "No etc/terrier.properties, using terrier.default.properties for bootstrap configuration.\n"
     ]
    }
   ],
   "source": [
    "if not pt.started():\n",
    "  pt.init()"
   ],
   "metadata": {
    "collapsed": false,
    "pycharm": {
     "name": "#%%\n"
    }
   }
  },
  {
   "cell_type": "code",
   "execution_count": null,
   "outputs": [],
   "source": [
    "def get_arqmath_answers_as_iterable(data_reader: DataReaderRecord):\n",
    "    for answer in data_reader.get_all_answer_posts():\n",
    "        if answer.body is not None and answer.post_id is not None and answer.parent_id is not None and answer.votes is not None:\n",
    "            indexed_body = translate_latex(answer.body)\n",
    "\n",
    "            yield {'docno': answer.post_id,\n",
    "                   'text': indexed_body,\n",
    "                   'origtext': answer.body,\n",
    "                   'parentno': answer.parent_id,\n",
    "                   'votes': answer.votes\n",
    "                   }"
   ],
   "metadata": {
    "collapsed": false,
    "pycharm": {
     "name": "#%%\n"
    }
   }
  },
  {
   "cell_type": "code",
   "execution_count": 4,
   "outputs": [
    {
     "data": {
      "text/plain": "'/Users/I518152/Documents/GitHub/information-retrieval/index/arqmath_indexV1/data.properties'"
     },
     "execution_count": 4,
     "metadata": {},
     "output_type": "execute_result"
    }
   ],
   "source": [
    "import os\n",
    "from src.pyterrier.config import ROOT_DIRECTORY\n",
    "\n",
    "index_path = f\"{ROOT_DIRECTORY}/index/arqmath_indexV1\"\n",
    "if not os.path.exists(index_path + \"/data.properties\"):\n",
    "    indexer = pt.IterDictIndexer(index_path, overwrite=True)\n",
    "    dict_field_names = [\"docno\", \"text\", \"origtext\", \"parentno\", \"votes\"]\n",
    "    index_ref_arqmath = indexer.index(get_arqmath_answers_as_iterable(data_reader))\n",
    "\n",
    "else:\n",
    "    index_ref_arqmath = pt.IndexRef.of(index_path + \"/data.properties\")\n",
    "\n",
    "index_ref_arqmath.toString()"
   ],
   "metadata": {
    "collapsed": false,
    "pycharm": {
     "name": "#%%\n"
    }
   }
  },
  {
   "cell_type": "code",
   "execution_count": 5,
   "outputs": [
    {
     "data": {
      "text/plain": "jnius.reflect.org.terrier.structures.Index"
     },
     "execution_count": 5,
     "metadata": {},
     "output_type": "execute_result"
    }
   ],
   "source": [
    "index = pt.IndexFactory.of(index_ref_arqmath)\n",
    "type(index)"
   ],
   "metadata": {
    "collapsed": false,
    "pycharm": {
     "name": "#%%\n"
    }
   }
  },
  {
   "cell_type": "code",
   "execution_count": 6,
   "outputs": [
    {
     "name": "stdout",
     "output_type": "stream",
     "text": [
      "Number of documents: 1191594\n",
      "Number of terms: 273825\n",
      "Number of postings: 65910187\n",
      "Number of fields: 1\n",
      "Number of tokens: 546619634\n",
      "Field names: [text]\n",
      "Positions:   false\n",
      "\n"
     ]
    }
   ],
   "source": [
    "print(index.getCollectionStatistics().toString())"
   ],
   "metadata": {
    "collapsed": false,
    "pycharm": {
     "name": "#%%\n"
    }
   }
  },
  {
   "cell_type": "code",
   "execution_count": null,
   "outputs": [],
   "source": [
    "for kv in index.getLexicon():\n",
    "  print(f\"{kv.getKey()} -> { kv.getValue().toString()}\")"
   ],
   "metadata": {
    "collapsed": false,
    "pycharm": {
     "name": "#%%\n",
     "is_executing": true
    }
   }
  },
  {
   "cell_type": "code",
   "execution_count": 8,
   "outputs": [
    {
     "data": {
      "text/plain": "'term325 Nt=170604 TF=380771 maxTF=2147483647 @{0 128783516 0} TFf=380771'"
     },
     "execution_count": 8,
     "metadata": {},
     "output_type": "execute_result"
    }
   ],
   "source": [
    "index.getLexicon()[\"number\"].toString()"
   ],
   "metadata": {
    "collapsed": false,
    "pycharm": {
     "name": "#%%\n"
    }
   }
  },
  {
   "cell_type": "code",
   "execution_count": 9,
   "outputs": [
    {
     "data": {
      "text/plain": "    qid   docid    docno  rank      score           query\n0     1  710849  1701210     0  18.071328  linear algebra\n1     1  136794   256695     1  18.038732  linear algebra\n2     1  142024   266868     2  17.859869  linear algebra\n3     1  103414   265736     3  17.835491  linear algebra\n4     1   90558   161735     4  17.801233  linear algebra\n..   ..     ...      ...   ...        ...             ...\n995   1  230186   453086   995  14.383920  linear algebra\n996   1   72175   126497   996  14.379584  linear algebra\n997   1   24928   467209   997  14.376588  linear algebra\n998   1  591735  1373861   998  14.375329  linear algebra\n999   1  477358  1073133   999  14.371981  linear algebra\n\n[1000 rows x 6 columns]",
      "text/html": "<div>\n<style scoped>\n    .dataframe tbody tr th:only-of-type {\n        vertical-align: middle;\n    }\n\n    .dataframe tbody tr th {\n        vertical-align: top;\n    }\n\n    .dataframe thead th {\n        text-align: right;\n    }\n</style>\n<table border=\"1\" class=\"dataframe\">\n  <thead>\n    <tr style=\"text-align: right;\">\n      <th></th>\n      <th>qid</th>\n      <th>docid</th>\n      <th>docno</th>\n      <th>rank</th>\n      <th>score</th>\n      <th>query</th>\n    </tr>\n  </thead>\n  <tbody>\n    <tr>\n      <th>0</th>\n      <td>1</td>\n      <td>710849</td>\n      <td>1701210</td>\n      <td>0</td>\n      <td>18.071328</td>\n      <td>linear algebra</td>\n    </tr>\n    <tr>\n      <th>1</th>\n      <td>1</td>\n      <td>136794</td>\n      <td>256695</td>\n      <td>1</td>\n      <td>18.038732</td>\n      <td>linear algebra</td>\n    </tr>\n    <tr>\n      <th>2</th>\n      <td>1</td>\n      <td>142024</td>\n      <td>266868</td>\n      <td>2</td>\n      <td>17.859869</td>\n      <td>linear algebra</td>\n    </tr>\n    <tr>\n      <th>3</th>\n      <td>1</td>\n      <td>103414</td>\n      <td>265736</td>\n      <td>3</td>\n      <td>17.835491</td>\n      <td>linear algebra</td>\n    </tr>\n    <tr>\n      <th>4</th>\n      <td>1</td>\n      <td>90558</td>\n      <td>161735</td>\n      <td>4</td>\n      <td>17.801233</td>\n      <td>linear algebra</td>\n    </tr>\n    <tr>\n      <th>...</th>\n      <td>...</td>\n      <td>...</td>\n      <td>...</td>\n      <td>...</td>\n      <td>...</td>\n      <td>...</td>\n    </tr>\n    <tr>\n      <th>995</th>\n      <td>1</td>\n      <td>230186</td>\n      <td>453086</td>\n      <td>995</td>\n      <td>14.383920</td>\n      <td>linear algebra</td>\n    </tr>\n    <tr>\n      <th>996</th>\n      <td>1</td>\n      <td>72175</td>\n      <td>126497</td>\n      <td>996</td>\n      <td>14.379584</td>\n      <td>linear algebra</td>\n    </tr>\n    <tr>\n      <th>997</th>\n      <td>1</td>\n      <td>24928</td>\n      <td>467209</td>\n      <td>997</td>\n      <td>14.376588</td>\n      <td>linear algebra</td>\n    </tr>\n    <tr>\n      <th>998</th>\n      <td>1</td>\n      <td>591735</td>\n      <td>1373861</td>\n      <td>998</td>\n      <td>14.375329</td>\n      <td>linear algebra</td>\n    </tr>\n    <tr>\n      <th>999</th>\n      <td>1</td>\n      <td>477358</td>\n      <td>1073133</td>\n      <td>999</td>\n      <td>14.371981</td>\n      <td>linear algebra</td>\n    </tr>\n  </tbody>\n</table>\n<p>1000 rows × 6 columns</p>\n</div>"
     },
     "execution_count": 9,
     "metadata": {},
     "output_type": "execute_result"
    }
   ],
   "source": [
    "br = pt.BatchRetrieve(index, wmodel=\"BM25\")\n",
    "br.search(\"linear algebra\")"
   ],
   "metadata": {
    "collapsed": false,
    "pycharm": {
     "name": "#%%\n"
    }
   }
  },
  {
   "cell_type": "code",
   "execution_count": 10,
   "outputs": [
    {
     "data": {
      "text/plain": "'<p>Well, let\\'s try to imagine how to <em>avoid</em> linear algebra. </p>  <p>Anything that involves functions of <span class=\"math-container\" id=\"15678330\">2</span> or more variables, that can be differentiated, will very soon use linear operators or matrices.  No geometry!</p>  <p>Also, no algebra or number theory or topology.  Almost anything in algebra or its client subjects that involves associative (not necessarily commutative) multiplication, such as composition of functions, requires the simpler case of linear algebra as a preliminary. </p>  <p>That leaves calculus of one real or complex variable. There, it will still be hard to avoid linear algebra, unless you also avoid recursion relations, differential and difference equations, operators on the functions, measures, Fourier and Laplace transforms, special function and orthogonal polynomials, discrete or finite-element methods, calculus of variations.  Sooner or later one meets linear-algebra concepts like eigenvalue, linear operator and quadratic form.</p>  <p>One could try to hide in parts of analysis that seem less algebraic.  The Riemann zeta function does not look like it needs any linear algebra.  But understanding it requires some algebraic number theory, and then there are all the conjectures about its relations to linear operators, and theorems that the zeros are spaced according to patterns typical of random... <em>matrices</em>.      Fractal geometry doesn\\'t look very algebraic, until you ask why the Mandelbrot set looks self-similar at all scales, or use iterated function systems, which are directly based on linear algebra.  Probability theory is full of Markov chains, which are complicated linear algebra.</p>  <p>OK then.  As long as one sticks to subjects that are outside of algebra, analysis and geometry, and are so qualitative that no serious algebra/analysis/geometry is used for calculating anything, then there might not be a need to ever know linear algebra!  This excludes concrete pursuits like combinatorics, computer science and all of applied mathematics.</p>  <p>For the very few subjects that are left, it is still questionable whether anyone could really make use of them without knowing linear algebra.  There are too many basic thought patterns that are learned in linear algebra, such as reasoning about higher-dimensional spaces, that have permeated the language and ideas in other parts of mathematics.</p> '"
     },
     "execution_count": 10,
     "metadata": {},
     "output_type": "execute_result"
    }
   ],
   "source": [
    "data_reader.post_parser.map_just_answers[1701210].body"
   ],
   "metadata": {
    "collapsed": false,
    "pycharm": {
     "name": "#%%\n"
    }
   }
  }
 ],
 "metadata": {
  "kernelspec": {
   "display_name": "Python 3",
   "language": "python",
   "name": "python3"
  },
  "language_info": {
   "codemirror_mode": {
    "name": "ipython",
    "version": 2
   },
   "file_extension": ".py",
   "mimetype": "text/x-python",
   "name": "python",
   "nbconvert_exporter": "python",
   "pygments_lexer": "ipython2",
   "version": "2.7.6"
  }
 },
 "nbformat": 4,
 "nbformat_minor": 0
}