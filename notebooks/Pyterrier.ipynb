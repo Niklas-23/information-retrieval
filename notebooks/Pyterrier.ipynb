{
 "cells": [
  {
   "cell_type": "code",
   "execution_count": 1,
   "metadata": {
    "collapsed": true,
    "pycharm": {
     "name": "#%%\n"
    }
   },
   "outputs": [],
   "source": [
    "from src import init_data\n",
    "from arqmath_code.topic_file_reader import Topic\n",
    "from arqmath_code.Entities.Post import Post\n",
    "import pyterrier as pt\n",
    "from bs4 import BeautifulSoup\n",
    "import copy\n",
    "from src.pyterrier_index import  get_arqmath_answers_as_iterable"
   ]
  },
  {
   "cell_type": "code",
   "execution_count": 2,
   "outputs": [
    {
     "name": "stdout",
     "output_type": "stream",
     "text": [
      "reading users\n",
      "reading comments\n",
      "reading votes\n",
      "reading post links\n",
      "reading posts\n"
     ]
    }
   ],
   "source": [
    "topic_reader, data_reader = init_data(task=1)"
   ],
   "metadata": {
    "collapsed": false,
    "pycharm": {
     "name": "#%%\n"
    }
   }
  },
  {
   "cell_type": "code",
   "execution_count": null,
   "outputs": [],
   "source": [
    "data_reader_copy = copy.deepcopy(data_reader)"
   ],
   "metadata": {
    "collapsed": false,
    "pycharm": {
     "name": "#%%\n"
    }
   }
  },
  {
   "cell_type": "code",
   "execution_count": 3,
   "outputs": [],
   "source": [
    "topic_reader_copy = copy.deepcopy(topic_reader)"
   ],
   "metadata": {
    "collapsed": false,
    "pycharm": {
     "name": "#%%\n"
    }
   }
  },
  {
   "cell_type": "code",
   "execution_count": 4,
   "outputs": [
    {
     "name": "stdout",
     "output_type": "stream",
     "text": [
      "<p>Suppose <span class=\"math-container\" id=\"q_2\">$A$</span> is a <span class=\"math-container\" id=\"q_3\">$m\\times n$</span> matrix.</p> <p>Then Prove that, <span class=\"math-container\" id=\"q_7\">$\\begin{equation*} \\|A\\|_2\\leq \\sqrt{\\|A\\|_1 \\|A\\|_{\\infty}} \\end{equation*}$</span></p> <p>I have proved the following relations: <span class=\"math-container\" id=\"q_8\">$\\begin{align*} \\frac{1}{\\sqrt{n}}\\|A\\|_{\\infty}\\leq \\|A\\|_2\\leq\\sqrt{m}\\|A\\|_{\\infty}\\\\ \\frac{1}{\\sqrt{m}}\\|A\\|_{1}\\leq \\|A\\|_2\\leq\\sqrt{n}\\|A\\|_{1} \\end{align*}$</span> Also I feel that somehow Holder's inequality for the special case when <span class=\"math-container\" id=\"q_4\">$p=1$</span> and <span class=\"math-container\" id=\"q_5\">$q=\\infty$</span> might be useful.But I couldn't prove that.</p> <p>Edit: I would like to have a prove that do not use the information that <span class=\"math-container\" id=\"q_6\">$\\|A\\|_2=\\sqrt{\\rho(A^TA)}$</span></p> <p>Usage of inequalities like Cauchy Schwartz or Holder is fine.</p> \n"
     ]
    }
   ],
   "source": [
    "test_topic: Topic = topic_reader_copy.get_topic('A.301')\n",
    "print(test_topic.question)"
   ],
   "metadata": {
    "collapsed": false,
    "pycharm": {
     "name": "#%%\n"
    }
   }
  },
  {
   "cell_type": "code",
   "execution_count": 7,
   "outputs": [
    {
     "data": {
      "text/plain": "\"Suppose $A$ is a $m\\\\times n$ matrix. Then Prove that, $\\\\begin{equation*} \\\\|A\\\\|_2\\\\leq \\\\sqrt{\\\\|A\\\\|_1 \\\\|A\\\\|_{\\\\infty}} \\\\end{equation*}$ I have proved the following relations: $\\\\begin{align*} \\\\frac{1}{\\\\sqrt{n}}\\\\|A\\\\|_{\\\\infty}\\\\leq \\\\|A\\\\|_2\\\\leq\\\\sqrt{m}\\\\|A\\\\|_{\\\\infty}\\\\\\\\ \\\\frac{1}{\\\\sqrt{m}}\\\\|A\\\\|_{1}\\\\leq \\\\|A\\\\|_2\\\\leq\\\\sqrt{n}\\\\|A\\\\|_{1} \\\\end{align*}$ Also I feel that somehow Holder's inequality for the special case when $p=1$ and $q=\\\\infty$ might be useful.But I couldn't prove that. Edit: I would like to have a prove that do not use the information that $\\\\|A\\\\|_2=\\\\sqrt{\\\\rho(A^TA)}$ Usage of inequalities like Cauchy Schwartz or Holder is fine. \""
     },
     "execution_count": 7,
     "metadata": {},
     "output_type": "execute_result"
    }
   ],
   "source": [
    "topic_copy: Topic = Topic(None, \"\", \"\", [])\n",
    "topic_copy.title = BeautifulSoup(test_topic.title).text\n",
    "topic_copy.question = BeautifulSoup(test_topic.question).text\n",
    "topic_copy.question"
   ],
   "metadata": {
    "collapsed": false,
    "pycharm": {
     "name": "#%%\n"
    }
   }
  },
  {
   "cell_type": "code",
   "execution_count": 12,
   "outputs": [
    {
     "data": {
      "text/plain": "'<p>I was reading up on the Fibonacci Sequence,  <span class=\"math-container\" id=\"336\">\\\\text {{1,1,2,3,5,8,13,....}}</span> when I\\'ve noticed some were able to calculate specific numbers. So far I\\'ve only figured out creating an array and counting to the value, which is incredibly simple, but I reckon I can\\'t find any formula for calculating a Fibonacci number based on it\\'s position.</p>  <p>Is there a way to do this? If so, how are we able to apply these formulas to arrays?</p> '"
     },
     "execution_count": 12,
     "metadata": {},
     "output_type": "execute_result"
    }
   ],
   "source": [
    "potential_questions = [question for tag in test_topic.lst_tags for question in data_reader.get_question_of_tag(tag=tag)]\n",
    "len(potential_questions)\n",
    "potential_questions[0].body"
   ],
   "metadata": {
    "collapsed": false,
    "pycharm": {
     "name": "#%%\n"
    }
   }
  },
  {
   "cell_type": "code",
   "execution_count": null,
   "outputs": [],
   "source": [
    "for question in potential_questions:\n",
    "    question.title = BeautifulSoup(question.title).text\n",
    "    question.body = BeautifulSoup(question.body).text\n",
    "\n",
    "potential_questions[0].body"
   ],
   "metadata": {
    "collapsed": false,
    "pycharm": {
     "name": "#%%\n"
    }
   }
  },
  {
   "cell_type": "code",
   "execution_count": 4,
   "outputs": [
    {
     "name": "stdout",
     "output_type": "stream",
     "text": [
      "WARNING: Not able to assign machine() = arm64 to a cpu value!\n",
      "         Using cpu = 'i386' instead!\n"
     ]
    },
    {
     "name": "stderr",
     "output_type": "stream",
     "text": [
      "PyTerrier 0.8.1 has loaded Terrier 5.6 (built by craigmacdonald on 2021-09-17 13:27)\n",
      "\n",
      "No etc/terrier.properties, using terrier.default.properties for bootstrap configuration.\n"
     ]
    }
   ],
   "source": [
    "if not pt.started():\n",
    "  pt.init()"
   ],
   "metadata": {
    "collapsed": false,
    "pycharm": {
     "name": "#%%\n"
    }
   }
  },
  {
   "cell_type": "code",
   "execution_count": 6,
   "outputs": [
    {
     "data": {
      "text/plain": "'./index_arqmathV1/data.properties'"
     },
     "execution_count": 6,
     "metadata": {},
     "output_type": "execute_result"
    }
   ],
   "source": [
    "indexer_arqmath = pt.IterDictIndexer(\"./index_arqmathV1\", overwrite=False)\n",
    "itrator_fields = [\"docno\", \"text\", \"origtext\", \"parentno\", \"votes\"]\n",
    "index_ref_arqmath = indexer_arqmath.index(get_arqmath_answers_as_iterable(data_reader))\n",
    "index_ref_arqmath.toString()"
   ],
   "metadata": {
    "collapsed": false,
    "pycharm": {
     "name": "#%%\n"
    }
   }
  },
  {
   "cell_type": "code",
   "execution_count": 7,
   "outputs": [
    {
     "data": {
      "text/plain": "jnius.reflect.org.terrier.structures.Index"
     },
     "execution_count": 7,
     "metadata": {},
     "output_type": "execute_result"
    }
   ],
   "source": [
    "index = pt.IndexFactory.of(index_ref_arqmath)\n",
    "type(index)"
   ],
   "metadata": {
    "collapsed": false,
    "pycharm": {
     "name": "#%%\n"
    }
   }
  },
  {
   "cell_type": "code",
   "execution_count": 8,
   "outputs": [
    {
     "name": "stdout",
     "output_type": "stream",
     "text": [
      "Number of documents: 1191594\n",
      "Number of terms: 273825\n",
      "Number of postings: 65910187\n",
      "Number of fields: 1\n",
      "Number of tokens: 546619634\n",
      "Field names: [text]\n",
      "Positions:   false\n",
      "\n"
     ]
    }
   ],
   "source": [
    "print(index.getCollectionStatistics().toString())"
   ],
   "metadata": {
    "collapsed": false,
    "pycharm": {
     "name": "#%%\n"
    }
   }
  },
  {
   "cell_type": "code",
   "execution_count": null,
   "outputs": [],
   "source": [
    "for kv in index.getLexicon():\n",
    "  print(\"%s (%s) -> %s (%s)\" % (kv.getKey(), type(kv.getKey()), kv.getValue().toString(), type(kv.getValue()) ) )"
   ],
   "metadata": {
    "collapsed": false,
    "pycharm": {
     "name": "#%%\n",
     "is_executing": true
    }
   }
  },
  {
   "cell_type": "code",
   "execution_count": 12,
   "outputs": [
    {
     "data": {
      "text/plain": "'term325 Nt=170604 TF=380771 maxTF=2147483647 @{0 128783516 0} TFf=380771'"
     },
     "execution_count": 12,
     "metadata": {},
     "output_type": "execute_result"
    }
   ],
   "source": [
    "index.getLexicon()[\"number\"].toString()"
   ],
   "metadata": {
    "collapsed": false,
    "pycharm": {
     "name": "#%%\n"
    }
   }
  },
  {
   "cell_type": "code",
   "execution_count": 22,
   "outputs": [
    {
     "data": {
      "text/plain": "    qid    docid    docno  rank      score             query\n0     1   180030   546538     0  11.770314  number of values\n1     1   884190  2172141     1  11.644172  number of values\n2     1    19803    30538     2  11.638610  number of values\n3     1  1168646  2986270     3  11.609251  number of values\n4     1   405000   879404     4  11.608430  number of values\n..   ..      ...      ...   ...        ...               ...\n995   1  1028889  2581020   995   9.684489  number of values\n996   1    26600    42577   996   9.682527  number of values\n997   1   449110  1153167   997   9.681039  number of values\n998   1   974176  2421469   998   9.681039  number of values\n999   1   867656  2125796   999   9.680617  number of values\n\n[1000 rows x 6 columns]",
      "text/html": "<div>\n<style scoped>\n    .dataframe tbody tr th:only-of-type {\n        vertical-align: middle;\n    }\n\n    .dataframe tbody tr th {\n        vertical-align: top;\n    }\n\n    .dataframe thead th {\n        text-align: right;\n    }\n</style>\n<table border=\"1\" class=\"dataframe\">\n  <thead>\n    <tr style=\"text-align: right;\">\n      <th></th>\n      <th>qid</th>\n      <th>docid</th>\n      <th>docno</th>\n      <th>rank</th>\n      <th>score</th>\n      <th>query</th>\n    </tr>\n  </thead>\n  <tbody>\n    <tr>\n      <th>0</th>\n      <td>1</td>\n      <td>180030</td>\n      <td>546538</td>\n      <td>0</td>\n      <td>11.770314</td>\n      <td>number of values</td>\n    </tr>\n    <tr>\n      <th>1</th>\n      <td>1</td>\n      <td>884190</td>\n      <td>2172141</td>\n      <td>1</td>\n      <td>11.644172</td>\n      <td>number of values</td>\n    </tr>\n    <tr>\n      <th>2</th>\n      <td>1</td>\n      <td>19803</td>\n      <td>30538</td>\n      <td>2</td>\n      <td>11.638610</td>\n      <td>number of values</td>\n    </tr>\n    <tr>\n      <th>3</th>\n      <td>1</td>\n      <td>1168646</td>\n      <td>2986270</td>\n      <td>3</td>\n      <td>11.609251</td>\n      <td>number of values</td>\n    </tr>\n    <tr>\n      <th>4</th>\n      <td>1</td>\n      <td>405000</td>\n      <td>879404</td>\n      <td>4</td>\n      <td>11.608430</td>\n      <td>number of values</td>\n    </tr>\n    <tr>\n      <th>...</th>\n      <td>...</td>\n      <td>...</td>\n      <td>...</td>\n      <td>...</td>\n      <td>...</td>\n      <td>...</td>\n    </tr>\n    <tr>\n      <th>995</th>\n      <td>1</td>\n      <td>1028889</td>\n      <td>2581020</td>\n      <td>995</td>\n      <td>9.684489</td>\n      <td>number of values</td>\n    </tr>\n    <tr>\n      <th>996</th>\n      <td>1</td>\n      <td>26600</td>\n      <td>42577</td>\n      <td>996</td>\n      <td>9.682527</td>\n      <td>number of values</td>\n    </tr>\n    <tr>\n      <th>997</th>\n      <td>1</td>\n      <td>449110</td>\n      <td>1153167</td>\n      <td>997</td>\n      <td>9.681039</td>\n      <td>number of values</td>\n    </tr>\n    <tr>\n      <th>998</th>\n      <td>1</td>\n      <td>974176</td>\n      <td>2421469</td>\n      <td>998</td>\n      <td>9.681039</td>\n      <td>number of values</td>\n    </tr>\n    <tr>\n      <th>999</th>\n      <td>1</td>\n      <td>867656</td>\n      <td>2125796</td>\n      <td>999</td>\n      <td>9.680617</td>\n      <td>number of values</td>\n    </tr>\n  </tbody>\n</table>\n<p>1000 rows × 6 columns</p>\n</div>"
     },
     "execution_count": 22,
     "metadata": {},
     "output_type": "execute_result"
    }
   ],
   "source": [
    "br = pt.BatchRetrieve(index, wmodel=\"BM25\")\n",
    "br.search(\"number of values\")"
   ],
   "metadata": {
    "collapsed": false,
    "pycharm": {
     "name": "#%%\n"
    }
   }
  },
  {
   "cell_type": "code",
   "execution_count": 30,
   "outputs": [
    {
     "data": {
      "text/plain": "\"<p>As you know, the relative frequency is the associated frequency divided by the total number of data, but in this question we don't know the total number of data. If we assume it to be 100, the frequency corresponding to each X value can be manipulated by multiplying each X value by 100.  Now for each X value we have 18, 33, 10, 6, and 33 frequencies respectively. In order to calculate the median, we should first order the numbers from smallest to highest, as the middle value is the median. In this question we have 100 numbers (an even number), so the position of the median is located at the Y values corresponding to X values 50 and 51 and is found by averaging these two values. The corresponding Y value for both X=50 and X=52 is 1, and (1 + 1)/2 = 1, which is the answer. </p> \""
     },
     "execution_count": 30,
     "metadata": {},
     "output_type": "execute_result"
    }
   ],
   "source": [
    "data_reader.post_parser.map_just_answers[546538].body"
   ],
   "metadata": {
    "collapsed": false,
    "pycharm": {
     "name": "#%%\n"
    }
   }
  }
 ],
 "metadata": {
  "kernelspec": {
   "display_name": "Python 3",
   "language": "python",
   "name": "python3"
  },
  "language_info": {
   "codemirror_mode": {
    "name": "ipython",
    "version": 2
   },
   "file_extension": ".py",
   "mimetype": "text/x-python",
   "name": "python",
   "nbconvert_exporter": "python",
   "pygments_lexer": "ipython2",
   "version": "2.7.6"
  }
 },
 "nbformat": 4,
 "nbformat_minor": 0
}