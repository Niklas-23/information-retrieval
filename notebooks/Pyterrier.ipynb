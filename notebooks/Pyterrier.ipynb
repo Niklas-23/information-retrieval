{
 "cells": [
  {
   "cell_type": "code",
   "execution_count": 1,
   "metadata": {
    "collapsed": true,
    "pycharm": {
     "name": "#%%\n"
    }
   },
   "outputs": [],
   "source": [
    "from src import init_data\n",
    "from arqmath_code.topic_file_reader import Topic\n",
    "from arqmath_code.Entities.Post import Post\n",
    "import re\n",
    "import pyterrier as pt\n",
    "from bs4 import BeautifulSoup\n",
    "import copy"
   ]
  },
  {
   "cell_type": "code",
   "execution_count": 2,
   "outputs": [
    {
     "name": "stdout",
     "output_type": "stream",
     "text": [
      "reading users\n",
      "reading comments\n",
      "reading votes\n",
      "reading post links\n",
      "reading posts\n"
     ]
    }
   ],
   "source": [
    "topic_reader, data_reader = init_data(task=1)"
   ],
   "metadata": {
    "collapsed": false,
    "pycharm": {
     "name": "#%%\n"
    }
   }
  },
  {
   "cell_type": "code",
   "execution_count": null,
   "outputs": [],
   "source": [
    "data_reader_copy = copy.deepcopy(data_reader)"
   ],
   "metadata": {
    "collapsed": false,
    "pycharm": {
     "name": "#%%\n"
    }
   }
  },
  {
   "cell_type": "code",
   "execution_count": 3,
   "outputs": [],
   "source": [
    "topic_reader_copy = copy.deepcopy(topic_reader)"
   ],
   "metadata": {
    "collapsed": false,
    "pycharm": {
     "name": "#%%\n"
    }
   }
  },
  {
   "cell_type": "code",
   "execution_count": 4,
   "outputs": [
    {
     "name": "stdout",
     "output_type": "stream",
     "text": [
      "<p>Suppose <span class=\"math-container\" id=\"q_2\">$A$</span> is a <span class=\"math-container\" id=\"q_3\">$m\\times n$</span> matrix.</p> <p>Then Prove that, <span class=\"math-container\" id=\"q_7\">$\\begin{equation*} \\|A\\|_2\\leq \\sqrt{\\|A\\|_1 \\|A\\|_{\\infty}} \\end{equation*}$</span></p> <p>I have proved the following relations: <span class=\"math-container\" id=\"q_8\">$\\begin{align*} \\frac{1}{\\sqrt{n}}\\|A\\|_{\\infty}\\leq \\|A\\|_2\\leq\\sqrt{m}\\|A\\|_{\\infty}\\\\ \\frac{1}{\\sqrt{m}}\\|A\\|_{1}\\leq \\|A\\|_2\\leq\\sqrt{n}\\|A\\|_{1} \\end{align*}$</span> Also I feel that somehow Holder's inequality for the special case when <span class=\"math-container\" id=\"q_4\">$p=1$</span> and <span class=\"math-container\" id=\"q_5\">$q=\\infty$</span> might be useful.But I couldn't prove that.</p> <p>Edit: I would like to have a prove that do not use the information that <span class=\"math-container\" id=\"q_6\">$\\|A\\|_2=\\sqrt{\\rho(A^TA)}$</span></p> <p>Usage of inequalities like Cauchy Schwartz or Holder is fine.</p> \n"
     ]
    }
   ],
   "source": [
    "test_topic: Topic = topic_reader_copy.get_topic('A.301')\n",
    "print(test_topic.question)"
   ],
   "metadata": {
    "collapsed": false,
    "pycharm": {
     "name": "#%%\n"
    }
   }
  },
  {
   "cell_type": "code",
   "execution_count": 7,
   "outputs": [
    {
     "data": {
      "text/plain": "\"Suppose $A$ is a $m\\\\times n$ matrix. Then Prove that, $\\\\begin{equation*} \\\\|A\\\\|_2\\\\leq \\\\sqrt{\\\\|A\\\\|_1 \\\\|A\\\\|_{\\\\infty}} \\\\end{equation*}$ I have proved the following relations: $\\\\begin{align*} \\\\frac{1}{\\\\sqrt{n}}\\\\|A\\\\|_{\\\\infty}\\\\leq \\\\|A\\\\|_2\\\\leq\\\\sqrt{m}\\\\|A\\\\|_{\\\\infty}\\\\\\\\ \\\\frac{1}{\\\\sqrt{m}}\\\\|A\\\\|_{1}\\\\leq \\\\|A\\\\|_2\\\\leq\\\\sqrt{n}\\\\|A\\\\|_{1} \\\\end{align*}$ Also I feel that somehow Holder's inequality for the special case when $p=1$ and $q=\\\\infty$ might be useful.But I couldn't prove that. Edit: I would like to have a prove that do not use the information that $\\\\|A\\\\|_2=\\\\sqrt{\\\\rho(A^TA)}$ Usage of inequalities like Cauchy Schwartz or Holder is fine. \""
     },
     "execution_count": 7,
     "metadata": {},
     "output_type": "execute_result"
    }
   ],
   "source": [
    "topic_copy: Topic = Topic(None, \"\", \"\", [])\n",
    "topic_copy.title = BeautifulSoup(test_topic.title).text\n",
    "topic_copy.question = BeautifulSoup(test_topic.question).text\n",
    "topic_copy.question"
   ],
   "metadata": {
    "collapsed": false,
    "pycharm": {
     "name": "#%%\n"
    }
   }
  },
  {
   "cell_type": "code",
   "execution_count": 12,
   "outputs": [
    {
     "data": {
      "text/plain": "'<p>I was reading up on the Fibonacci Sequence,  <span class=\"math-container\" id=\"336\">\\\\text {{1,1,2,3,5,8,13,....}}</span> when I\\'ve noticed some were able to calculate specific numbers. So far I\\'ve only figured out creating an array and counting to the value, which is incredibly simple, but I reckon I can\\'t find any formula for calculating a Fibonacci number based on it\\'s position.</p>  <p>Is there a way to do this? If so, how are we able to apply these formulas to arrays?</p> '"
     },
     "execution_count": 12,
     "metadata": {},
     "output_type": "execute_result"
    }
   ],
   "source": [
    "potential_questions = [question for tag in test_topic.lst_tags for question in data_reader.get_question_of_tag(tag=tag)]\n",
    "len(potential_questions)\n",
    "potential_questions[0].body"
   ],
   "metadata": {
    "collapsed": false,
    "pycharm": {
     "name": "#%%\n"
    }
   }
  },
  {
   "cell_type": "code",
   "execution_count": null,
   "outputs": [],
   "source": [
    "for question in potential_questions:\n",
    "    question.title = BeautifulSoup(question.title).text\n",
    "    question.body = BeautifulSoup(question.body).text\n",
    "\n",
    "potential_questions[0].body"
   ],
   "metadata": {
    "collapsed": false,
    "pycharm": {
     "name": "#%%\n",
     "is_executing": true
    }
   }
  },
  {
   "cell_type": "code",
   "execution_count": 27,
   "outputs": [
    {
     "data": {
      "text/plain": "arqmath_code.Entities.Post.Question"
     },
     "execution_count": 27,
     "metadata": {},
     "output_type": "execute_result"
    }
   ],
   "source": [
    "potential_questions[0].__class__"
   ],
   "metadata": {
    "collapsed": false,
    "pycharm": {
     "name": "#%%\n"
    }
   }
  },
  {
   "cell_type": "code",
   "execution_count": 14,
   "outputs": [
    {
     "name": "stdout",
     "output_type": "stream",
     "text": [
      "terrier-assemblies 5.6 jar-with-dependencies not found, downloading to /Users/I518152/.pyterrier...\n",
      "Done\n",
      "terrier-python-helper 0.0.6 jar not found, downloading to /Users/I518152/.pyterrier...\n",
      "Done\n",
      "WARNING: Not able to assign machine() = arm64 to a cpu value!\n",
      "         Using cpu = 'i386' instead!\n"
     ]
    },
    {
     "name": "stderr",
     "output_type": "stream",
     "text": [
      "PyTerrier 0.8.1 has loaded Terrier 5.6 (built by craigmacdonald on 2021-09-17 13:27)\n",
      "\n",
      "No etc/terrier.properties, using terrier.default.properties for bootstrap configuration.\n"
     ]
    }
   ],
   "source": [
    "if not pt.started():\n",
    "  pt.init()"
   ],
   "metadata": {
    "collapsed": false,
    "pycharm": {
     "name": "#%%\n"
    }
   }
  },
  {
   "cell_type": "code",
   "execution_count": 15,
   "outputs": [
    {
     "data": {
      "text/plain": "  docno                                          text\n0    d1  this is the first document of many documents\n1    d2                      this is another document\n2    d3         the topic of this document is unknown",
      "text/html": "<div>\n<style scoped>\n    .dataframe tbody tr th:only-of-type {\n        vertical-align: middle;\n    }\n\n    .dataframe tbody tr th {\n        vertical-align: top;\n    }\n\n    .dataframe thead th {\n        text-align: right;\n    }\n</style>\n<table border=\"1\" class=\"dataframe\">\n  <thead>\n    <tr style=\"text-align: right;\">\n      <th></th>\n      <th>docno</th>\n      <th>text</th>\n    </tr>\n  </thead>\n  <tbody>\n    <tr>\n      <th>0</th>\n      <td>d1</td>\n      <td>this is the first document of many documents</td>\n    </tr>\n    <tr>\n      <th>1</th>\n      <td>d2</td>\n      <td>this is another document</td>\n    </tr>\n    <tr>\n      <th>2</th>\n      <td>d3</td>\n      <td>the topic of this document is unknown</td>\n    </tr>\n  </tbody>\n</table>\n</div>"
     },
     "execution_count": 15,
     "metadata": {},
     "output_type": "execute_result"
    }
   ],
   "source": [
    "import pandas as pd\n",
    "\n",
    "# lets not truncate output too much\n",
    "pd.set_option('display.max_colwidth', 150)\n",
    "\n",
    "docs_df = pd.DataFrame([\n",
    "        [\"d1\", \"this is the first document of many documents\"],\n",
    "        [\"d2\", \"this is another document\"],\n",
    "        [\"d3\", \"the topic of this document is unknown\"]\n",
    "    ], columns=[\"docno\", \"text\"])\n",
    "\n",
    "docs_df"
   ],
   "metadata": {
    "collapsed": false,
    "pycharm": {
     "name": "#%%\n"
    }
   }
  },
  {
   "cell_type": "code",
   "execution_count": null,
   "outputs": [],
   "source": [
    "indexer = pt.DFIndexer(\"./index_3docs\", overwrite=True)\n",
    "index_ref = indexer.index(docs_df[\"text\"], docs_df[\"docno\"])\n",
    "index_ref.toString()"
   ],
   "metadata": {
    "collapsed": false,
    "pycharm": {
     "name": "#%%\n",
     "is_executing": true
    }
   }
  },
  {
   "cell_type": "code",
   "execution_count": null,
   "outputs": [],
   "source": [
    "indexer_arqmath = pt.IterDictIndexer(\"./index_arqmathV1\")\n",
    "index_ref_arqmath = indexer_arqmath.index(potential_questions) #not working but right approach, further preprocessing needed to create a list of dicts\n",
    "index_ref_arqmath.toString()"
   ],
   "metadata": {
    "collapsed": false,
    "pycharm": {
     "name": "#%%\n",
     "is_executing": true
    }
   }
  },
  {
   "cell_type": "code",
   "execution_count": 17,
   "outputs": [
    {
     "data": {
      "text/plain": "jnius.reflect.org.terrier.structures.Index"
     },
     "execution_count": 17,
     "metadata": {},
     "output_type": "execute_result"
    }
   ],
   "source": [
    "index = pt.IndexFactory.of(index_ref)\n",
    "\n",
    "#lets see what type index is.\n",
    "type(index)"
   ],
   "metadata": {
    "collapsed": false,
    "pycharm": {
     "name": "#%%\n"
    }
   }
  },
  {
   "cell_type": "code",
   "execution_count": 18,
   "outputs": [
    {
     "name": "stdout",
     "output_type": "stream",
     "text": [
      "Number of documents: 3\n",
      "Number of terms: 4\n",
      "Number of postings: 6\n",
      "Number of fields: 0\n",
      "Number of tokens: 7\n",
      "Field names: []\n",
      "Positions:   false\n",
      "\n"
     ]
    }
   ],
   "source": [
    "print(index.getCollectionStatistics().toString())"
   ],
   "metadata": {
    "collapsed": false,
    "pycharm": {
     "name": "#%%\n"
    }
   }
  },
  {
   "cell_type": "code",
   "execution_count": 19,
   "outputs": [
    {
     "name": "stdout",
     "output_type": "stream",
     "text": [
      "document (<class 'str'>) -> term0 Nt=3 TF=4 maxTF=2 @{0 0 0} (<class 'jnius.reflect.org.terrier.structures.LexiconEntry'>)\n",
      "first (<class 'str'>) -> term1 Nt=1 TF=1 maxTF=1 @{0 0 7} (<class 'jnius.reflect.org.terrier.structures.LexiconEntry'>)\n",
      "topic (<class 'str'>) -> term2 Nt=1 TF=1 maxTF=1 @{0 1 1} (<class 'jnius.reflect.org.terrier.structures.LexiconEntry'>)\n",
      "unknown (<class 'str'>) -> term3 Nt=1 TF=1 maxTF=1 @{0 1 5} (<class 'jnius.reflect.org.terrier.structures.LexiconEntry'>)\n"
     ]
    }
   ],
   "source": [
    "for kv in index.getLexicon():\n",
    "  print(\"%s (%s) -> %s (%s)\" % (kv.getKey(), type(kv.getKey()), kv.getValue().toString(), type(kv.getValue()) ) )"
   ],
   "metadata": {
    "collapsed": false,
    "pycharm": {
     "name": "#%%\n"
    }
   }
  },
  {
   "cell_type": "code",
   "execution_count": 20,
   "outputs": [
    {
     "data": {
      "text/plain": "'term0 Nt=3 TF=4 maxTF=2 @{0 0 0}'"
     },
     "execution_count": 20,
     "metadata": {},
     "output_type": "execute_result"
    }
   ],
   "source": [
    "index.getLexicon()[\"document\"].toString()"
   ],
   "metadata": {
    "collapsed": false,
    "pycharm": {
     "name": "#%%\n"
    }
   }
  },
  {
   "cell_type": "code",
   "execution_count": 25,
   "outputs": [
    {
     "data": {
      "text/plain": "  qid  docid docno  rank     score  query\n0   1      0    d1     0  0.976744  first",
      "text/html": "<div>\n<style scoped>\n    .dataframe tbody tr th:only-of-type {\n        vertical-align: middle;\n    }\n\n    .dataframe tbody tr th {\n        vertical-align: top;\n    }\n\n    .dataframe thead th {\n        text-align: right;\n    }\n</style>\n<table border=\"1\" class=\"dataframe\">\n  <thead>\n    <tr style=\"text-align: right;\">\n      <th></th>\n      <th>qid</th>\n      <th>docid</th>\n      <th>docno</th>\n      <th>rank</th>\n      <th>score</th>\n      <th>query</th>\n    </tr>\n  </thead>\n  <tbody>\n    <tr>\n      <th>0</th>\n      <td>1</td>\n      <td>0</td>\n      <td>d1</td>\n      <td>0</td>\n      <td>0.976744</td>\n      <td>first</td>\n    </tr>\n  </tbody>\n</table>\n</div>"
     },
     "execution_count": 25,
     "metadata": {},
     "output_type": "execute_result"
    }
   ],
   "source": [
    "br = pt.BatchRetrieve(index, wmodel=\"TF_IDF\")\n",
    "br.search(\"first\")"
   ],
   "metadata": {
    "collapsed": false,
    "pycharm": {
     "name": "#%%\n"
    }
   }
  }
 ],
 "metadata": {
  "kernelspec": {
   "display_name": "Python 3",
   "language": "python",
   "name": "python3"
  },
  "language_info": {
   "codemirror_mode": {
    "name": "ipython",
    "version": 2
   },
   "file_extension": ".py",
   "mimetype": "text/x-python",
   "name": "python",
   "nbconvert_exporter": "python",
   "pygments_lexer": "ipython2",
   "version": "2.7.6"
  }
 },
 "nbformat": 4,
 "nbformat_minor": 0
}